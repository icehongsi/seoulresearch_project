{
 "cells": [
  {
   "cell_type": "code",
   "execution_count": 160,
   "metadata": {},
   "outputs": [],
   "source": [
    "import pandas as pd\n",
    "file_dir = \"C:\\\\Users\\Youngju Hong\\Documents\\projectfile\\workload\""
   ]
  },
  {
   "cell_type": "code",
   "execution_count": 161,
   "metadata": {},
   "outputs": [],
   "source": [
    "foreign = pd.read_table(f\"{file_dir}\\SE_SPOP_FORN_LONG_RESD_DONG_2020년1월-5월.txt\", sep = ',')"
   ]
  },
  {
   "cell_type": "code",
   "execution_count": 162,
   "metadata": {},
   "outputs": [
    {
     "data": {
      "text/html": [
       "<div>\n",
       "<style scoped>\n",
       "    .dataframe tbody tr th:only-of-type {\n",
       "        vertical-align: middle;\n",
       "    }\n",
       "\n",
       "    .dataframe tbody tr th {\n",
       "        vertical-align: top;\n",
       "    }\n",
       "\n",
       "    .dataframe thead th {\n",
       "        text-align: right;\n",
       "    }\n",
       "</style>\n",
       "<table border=\"1\" class=\"dataframe\">\n",
       "  <thead>\n",
       "    <tr style=\"text-align: right;\">\n",
       "      <th></th>\n",
       "      <th>ymd</th>\n",
       "      <th>tt</th>\n",
       "      <th>h_dng_cd</th>\n",
       "      <th>fornlong_spop</th>\n",
       "      <th>chn</th>\n",
       "      <th>vnm</th>\n",
       "      <th>usa</th>\n",
       "      <th>jpn</th>\n",
       "      <th>can</th>\n",
       "      <th>twn</th>\n",
       "      <th>etcsum</th>\n",
       "    </tr>\n",
       "  </thead>\n",
       "  <tbody>\n",
       "    <tr>\n",
       "      <th>0</th>\n",
       "      <td>20200101</td>\n",
       "      <td>0</td>\n",
       "      <td>11110515</td>\n",
       "      <td>204.3423</td>\n",
       "      <td>81.5946</td>\n",
       "      <td>0.0238</td>\n",
       "      <td>52.6440</td>\n",
       "      <td>5.9314</td>\n",
       "      <td>15.6232</td>\n",
       "      <td>0.0037</td>\n",
       "      <td>48.5216</td>\n",
       "    </tr>\n",
       "    <tr>\n",
       "      <th>1</th>\n",
       "      <td>20200101</td>\n",
       "      <td>0</td>\n",
       "      <td>11110530</td>\n",
       "      <td>996.7482</td>\n",
       "      <td>234.0191</td>\n",
       "      <td>14.8886</td>\n",
       "      <td>183.3293</td>\n",
       "      <td>34.7678</td>\n",
       "      <td>50.3823</td>\n",
       "      <td>12.4711</td>\n",
       "      <td>466.8905</td>\n",
       "    </tr>\n",
       "    <tr>\n",
       "      <th>2</th>\n",
       "      <td>20200101</td>\n",
       "      <td>0</td>\n",
       "      <td>11110540</td>\n",
       "      <td>168.6856</td>\n",
       "      <td>43.7797</td>\n",
       "      <td>13.9304</td>\n",
       "      <td>48.6421</td>\n",
       "      <td>6.5842</td>\n",
       "      <td>0.3645</td>\n",
       "      <td>13.3380</td>\n",
       "      <td>42.0469</td>\n",
       "    </tr>\n",
       "    <tr>\n",
       "      <th>3</th>\n",
       "      <td>20200101</td>\n",
       "      <td>0</td>\n",
       "      <td>11110550</td>\n",
       "      <td>437.9146</td>\n",
       "      <td>245.3211</td>\n",
       "      <td>4.4483</td>\n",
       "      <td>88.1657</td>\n",
       "      <td>0.0000</td>\n",
       "      <td>29.5340</td>\n",
       "      <td>9.6511</td>\n",
       "      <td>60.7944</td>\n",
       "    </tr>\n",
       "    <tr>\n",
       "      <th>4</th>\n",
       "      <td>20200101</td>\n",
       "      <td>0</td>\n",
       "      <td>11110560</td>\n",
       "      <td>380.7847</td>\n",
       "      <td>116.9250</td>\n",
       "      <td>4.4532</td>\n",
       "      <td>120.6092</td>\n",
       "      <td>10.7719</td>\n",
       "      <td>24.8353</td>\n",
       "      <td>26.4001</td>\n",
       "      <td>76.7901</td>\n",
       "    </tr>\n",
       "  </tbody>\n",
       "</table>\n",
       "</div>"
      ],
      "text/plain": [
       "        ymd  tt  h_dng_cd  fornlong_spop       chn      vnm       usa  \\\n",
       "0  20200101   0  11110515       204.3423   81.5946   0.0238   52.6440   \n",
       "1  20200101   0  11110530       996.7482  234.0191  14.8886  183.3293   \n",
       "2  20200101   0  11110540       168.6856   43.7797  13.9304   48.6421   \n",
       "3  20200101   0  11110550       437.9146  245.3211   4.4483   88.1657   \n",
       "4  20200101   0  11110560       380.7847  116.9250   4.4532  120.6092   \n",
       "\n",
       "       jpn      can      twn    etcsum  \n",
       "0   5.9314  15.6232   0.0037   48.5216  \n",
       "1  34.7678  50.3823  12.4711  466.8905  \n",
       "2   6.5842   0.3645  13.3380   42.0469  \n",
       "3   0.0000  29.5340   9.6511   60.7944  \n",
       "4  10.7719  24.8353  26.4001   76.7901  "
      ]
     },
     "execution_count": 162,
     "metadata": {},
     "output_type": "execute_result"
    }
   ],
   "source": [
    "foreign.head()"
   ]
  },
  {
   "cell_type": "code",
   "execution_count": 163,
   "metadata": {},
   "outputs": [],
   "source": [
    "foreign.dtypes\n",
    "\n",
    "#1. businessday 변수: Business Day일 경우 True, 아니면 False\n",
    "def mark_holidays(x):    \n",
    "    if x % 1000 in (101,124,125,126,301,430,501,505):\n",
    "        return False\n",
    "    else:\n",
    "        return True\n",
    "    \n",
    "foreign[\"businessday\"] = foreign[\"ymd\"].apply(mark_holidays)"
   ]
  },
  {
   "cell_type": "code",
   "execution_count": 164,
   "metadata": {},
   "outputs": [],
   "source": [
    "#2. ymd 변수를 날짜변수로 변경 후 요일 지정\n",
    "\n",
    "foreign[\"ymd\"] = pd.to_datetime(foreign[\"ymd\"], format = \"%Y%m%d\")\n",
    "\n",
    "#3. 요일 설정,  0123456 = 월화수목금토일\n",
    "\n",
    "foreign[\"day\"] = foreign[\"ymd\"].dt.weekday\n",
    "day_to_letter = dict(zip([_ for _ in range(7)], [\"mon\",\"tue\",\"wed\",\"thu\", \"fri\", \"sat\", \"sun\"]))\n",
    "\n",
    "def day_transition(day_in_integer):\n",
    "    return day_to_letter[day_in_integer]\n",
    "\n",
    "foreign[\"day_in_letter\"] = foreign[\"day\"].apply(day_transition)"
   ]
  },
  {
   "cell_type": "code",
   "execution_count": 167,
   "metadata": {},
   "outputs": [],
   "source": [
    "foreign[\"weekday\"] = foreign[\"day\"].apply(lambda x: False if x >= 5 else True)\n",
    "\n",
    "#foreign[\"businessday\"] = foreign\n",
    "\n",
    "foreign[\"businessday\"] = foreign.apply(lambda x: x[\"weekday\"] & x[\"businessday\"], axis = 1)"
   ]
  },
  {
   "cell_type": "code",
   "execution_count": 174,
   "metadata": {},
   "outputs": [],
   "source": [
    "#4. 영업시간\n",
    "\n",
    "foreign[\"businesshour\"] = foreign[\"tt\"].apply(lambda x: True if (x>=9 and x<=18) else False)"
   ]
  },
  {
   "cell_type": "code",
   "execution_count": 175,
   "metadata": {},
   "outputs": [],
   "source": [
    "#5. 취침시간, 새벽2시 - 5시 사이\n",
    "\n",
    "foreign[\"nighttime\"] = foreign[\"tt\"].apply(lambda x: True if (x>=2 and x <=5) else False)"
   ]
  },
  {
   "cell_type": "code",
   "execution_count": 176,
   "metadata": {},
   "outputs": [
    {
     "name": "stdout",
     "output_type": "stream",
     "text": [
      "         ymd  tt  h_dng_cd  fornlong_spop       chn      vnm       usa  \\\n",
      "0 2020-01-01   0  11110515       204.3423   81.5946   0.0238   52.6440   \n",
      "1 2020-01-01   0  11110530       996.7482  234.0191  14.8886  183.3293   \n",
      "2 2020-01-01   0  11110540       168.6856   43.7797  13.9304   48.6421   \n",
      "3 2020-01-01   0  11110550       437.9146  245.3211   4.4483   88.1657   \n",
      "4 2020-01-01   0  11110560       380.7847  116.9250   4.4532  120.6092   \n",
      "\n",
      "       jpn      can      twn    etcsum  businessday  day day_in_letter  \\\n",
      "0   5.9314  15.6232   0.0037   48.5216        False    2           wed   \n",
      "1  34.7678  50.3823  12.4711  466.8905        False    2           wed   \n",
      "2   6.5842   0.3645  13.3380   42.0469        False    2           wed   \n",
      "3   0.0000  29.5340   9.6511   60.7944        False    2           wed   \n",
      "4  10.7719  24.8353  26.4001   76.7901        False    2           wed   \n",
      "\n",
      "   weekday  businesshour  nighttime  \n",
      "0     True         False      False  \n",
      "1     True         False      False  \n",
      "2     True         False      False  \n",
      "3     True         False      False  \n",
      "4     True         False      False  \n",
      "ymd              datetime64[ns]\n",
      "tt                        int64\n",
      "h_dng_cd                  int64\n",
      "fornlong_spop           float64\n",
      "chn                     float64\n",
      "vnm                     float64\n",
      "usa                     float64\n",
      "jpn                     float64\n",
      "can                     float64\n",
      "twn                     float64\n",
      "etcsum                  float64\n",
      "businessday                bool\n",
      "day                       int64\n",
      "day_in_letter            object\n",
      "weekday                    bool\n",
      "businesshour               bool\n",
      "nighttime                  bool\n",
      "dtype: object\n"
     ]
    }
   ],
   "source": [
    "print(foreign.head())\n",
    "print(foreign.dtypes)"
   ]
  },
  {
   "cell_type": "code",
   "execution_count": 177,
   "metadata": {},
   "outputs": [
    {
     "name": "stdout",
     "output_type": "stream",
     "text": [
      "  통계청행정동코드  행자부행정동코드 시도명 시군구명 행정동명  address\n",
      "1  1101053  11110530  서울  종로구  사직동  종로구 사직동\n",
      "2  1101054  11110540  서울  종로구  삼청동  종로구 삼청동\n",
      "3  1101055  11110550  서울  종로구  부암동  종로구 부암동\n",
      "4  1101056  11110560  서울  종로구  평창동  종로구 평창동\n",
      "5  1101057  11110570  서울  종로구  무악동  종로구 무악동\n",
      "통계청행정동코드    object\n",
      "행자부행정동코드    object\n",
      "시도명         object\n",
      "시군구명        object\n",
      "행정동명        object\n",
      "address     object\n",
      "dtype: object\n"
     ]
    }
   ],
   "source": [
    "#동 코드\n",
    "codebook = pd.read_excel(f\"{file_dir}\\행정동코드_매핑정보_2018.xlsx\", encoding = \"cp949\")\n",
    "codebook = codebook.iloc[1:, :]\n",
    "codebook[\"address\"] = codebook[\"시군구명\"].astype(str) + \" \" + codebook[\"행정동명\"]\n",
    "print(codebook.head())\n",
    "print(codebook.dtypes)"
   ]
  },
  {
   "cell_type": "code",
   "execution_count": 178,
   "metadata": {},
   "outputs": [],
   "source": [
    "map_hangcode_address = dict(zip(codebook[\"행자부행정동코드\"], codebook[\"address\"]))"
   ]
  },
  {
   "cell_type": "code",
   "execution_count": 179,
   "metadata": {},
   "outputs": [],
   "source": [
    "foreign[\"address\"] = foreign[\"h_dng_cd\"].astype(str).apply(lambda x: map_hangcode_address[x])"
   ]
  },
  {
   "cell_type": "code",
   "execution_count": 186,
   "metadata": {},
   "outputs": [],
   "source": [
    "foreign_by_dong = foreign.groupby(by = [\"h_dng_cd\", \"address\", \"tt\", \"businessday\", \"businesshour\"])[[\"chn\",\"vnm\",\"usa\",\"jpn\",\"can\",\"twn\",\"etcsum\"]].mean().reset_index()"
   ]
  },
  {
   "cell_type": "code",
   "execution_count": 188,
   "metadata": {},
   "outputs": [],
   "source": [
    "foreign_by_dong.to_excel(\"외국인생활인구.xlsx\")"
   ]
  },
  {
   "cell_type": "code",
   "execution_count": null,
   "metadata": {},
   "outputs": [],
   "source": []
  }
 ],
 "metadata": {
  "kernelspec": {
   "display_name": "Python 3",
   "language": "python",
   "name": "python3"
  },
  "language_info": {
   "codemirror_mode": {
    "name": "ipython",
    "version": 3
   },
   "file_extension": ".py",
   "mimetype": "text/x-python",
   "name": "python",
   "nbconvert_exporter": "python",
   "pygments_lexer": "ipython3",
   "version": "3.7.6"
  }
 },
 "nbformat": 4,
 "nbformat_minor": 4
}
