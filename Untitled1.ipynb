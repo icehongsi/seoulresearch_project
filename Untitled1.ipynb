{
 "cells": [
  {
   "cell_type": "code",
   "execution_count": 1,
   "metadata": {},
   "outputs": [],
   "source": [
    "file = open(\"C://Users/Youngju Hong/Desktop/add.txt\", \"r\", encoding = \"UTF-8\")\n",
    "import pandas as pd"
   ]
  },
  {
   "cell_type": "code",
   "execution_count": 2,
   "metadata": {},
   "outputs": [],
   "source": [
    "addlist = []\n",
    "for i in file.readlines():\n",
    "    addlist.append(i[:len(i)-1])"
   ]
  },
  {
   "cell_type": "code",
   "execution_count": 3,
   "metadata": {},
   "outputs": [],
   "source": [
    "addlist = addlist[1:]"
   ]
  },
  {
   "cell_type": "code",
   "execution_count": 4,
   "metadata": {},
   "outputs": [
    {
     "data": {
      "text/plain": [
       "['서울 종로구 종로53길 29',\n",
       " '서울 중구 퇴계로 460',\n",
       " '서울 용산구 이태원로 224-19',\n",
       " '서울 성동구 무학로 6길 9',\n",
       " '서울 광진구 아차산로 24길 17',\n",
       " '서울 동대문구 청계천로 521',\n",
       " '서울 중랑구 용마산로 369',\n",
       " '서울 성북구 안암로 145',\n",
       " '서울 강북구 한천로 129길 6',\n",
       " '서울 도봉구 도봉로 552',\n",
       " '서울 노원구 동일로 173가길 94',\n",
       " '서울 은평구 은평로21가길 15-17',\n",
       " '서울 서대문구 증가로 244',\n",
       " '서울 마포구 양화로 19',\n",
       " '서울 양천구 남부순환로 88길 5-7',\n",
       " '서울 강서구 강서로 5길 50',\n",
       " '서울 구로구 우마2길 35',\n",
       " '서울 금천구 금하로 11길 40',\n",
       " '서울 영등포구 영등포로 84길 24-5',\n",
       " '서울 동작구 동작대로 29길 63-26',\n",
       " '서울 관악구 신림로 3길 35',\n",
       " '서울 강남구 개포로 617-8',\n",
       " '서울 송파구 마천로41길 12',\n",
       " '서울 강동구 양재대로 138길 41',\n",
       " '부산 동구 중앙대로 248',\n",
       " '부산 진구 백양대로 160',\n",
       " '부산 동래구 사직북로 63번길 20-7',\n",
       " '부산 남구 수영로 356',\n",
       " '부산 북구 효열로 76',\n",
       " '부산 해운대구 양운로 91',\n",
       " '부산 사하구 신산로 177']"
      ]
     },
     "execution_count": 4,
     "metadata": {},
     "output_type": "execute_result"
    }
   ],
   "source": [
    "addlist"
   ]
  },
  {
   "cell_type": "code",
   "execution_count": 5,
   "metadata": {},
   "outputs": [],
   "source": [
    "import requests\n",
    "jibun = []\n",
    "for i in addlist:\n",
    "    result = requests.get(f\"http://www.juso.go.kr/addrlink/addrLinkApi.do?currentPage=1&countPerPage=1&keyword={i}'&confmKey=devU01TX0FVVEgyMDIwMDgxMTAwMzYxMjExMDA0NTY=&resultType=json\").json()\n",
    "    jibun.append(result[\"results\"][\"juso\"][0][\"jibunAddr\"])"
   ]
  },
  {
   "cell_type": "code",
   "execution_count": 7,
   "metadata": {},
   "outputs": [],
   "source": [
    "jibun = [' '.join(i.split(' ')[:4]) for i in jibun]"
   ]
  },
  {
   "cell_type": "code",
   "execution_count": 8,
   "metadata": {},
   "outputs": [
    {
     "name": "stdout",
     "output_type": "stream",
     "text": [
      "서울특별시 종로구 창신동 197-17\n",
      "서울특별시 중구 신당동 160-2\n",
      "서울특별시 용산구 한남동 685-46\n",
      "서울특별시 성동구 홍익동 373-1\n",
      "서울특별시 광진구 자양동 13-28\n",
      "서울특별시 동대문구 용두동 255-69\n",
      "서울특별시 중랑구 면목동 62-2\n",
      "서울특별시 성북구 안암동5가 1-2\n",
      "서울특별시 강북구 번동 417-93\n",
      "서울특별시 도봉구 창동 303\n",
      "서울특별시 노원구 공릉동 569-19\n",
      "서울특별시 은평구 녹번동 86-157\n",
      "서울특별시 서대문구 북가좌동 333-5\n",
      "서울특별시 마포구 합정동 471\n",
      "서울특별시 양천구 신정동 1287-5\n",
      "서울특별시 강서구 화곡동 890\n",
      "서울특별시 구로구 가리봉동 118-11\n",
      "서울특별시 금천구 시흥동 841\n",
      "서울특별시 영등포구 신길동 465-1\n",
      "서울특별시 동작구 사당동 1136-1\n",
      "서울특별시 관악구 신림동 209-1\n",
      "서울특별시 강남구 개포동 14-2\n",
      "서울특별시 송파구 마천동 127-1\n",
      "서울특별시 강동구 명일동 327-6\n",
      "부산광역시 동구 초량동 1191-7\n",
      "부산광역시 부산진구 당감동 516-8\n",
      "부산광역시 동래구 사직동 29-8\n",
      "부산광역시 남구 대연동 38-1\n",
      "부산광역시 북구 금곡동 1108\n",
      "부산광역시 해운대구 좌동 1458-2\n",
      "부산광역시 사하구 신평동 79-18\n"
     ]
    }
   ],
   "source": [
    "for i in jibun:\n",
    "    print(i)"
   ]
  },
  {
   "cell_type": "code",
   "execution_count": 9,
   "metadata": {},
   "outputs": [
    {
     "name": "stdout",
     "output_type": "stream",
     "text": [
      "종로구\n",
      "중구\n",
      "용산구\n",
      "성동구\n",
      "광진구\n",
      "동대문구\n",
      "중랑구\n",
      "성북구\n",
      "강북구\n",
      "도봉구\n",
      "노원구\n",
      "은평구\n",
      "서대문구\n",
      "마포구\n",
      "양천구\n",
      "강서구\n",
      "구로구\n",
      "금천구\n",
      "영등포구\n",
      "동작구\n",
      "관악구\n",
      "강남구\n",
      "송파구\n",
      "강동구\n",
      "동구\n",
      "진구\n",
      "동래구\n",
      "남구\n",
      "북구\n",
      "해운대구\n",
      "사하구\n"
     ]
    }
   ],
   "source": [
    "gulist = [i.split(' ')[1] for i in addlist]\n",
    "\n",
    "for i in gulist:\n",
    "    print(i)"
   ]
  },
  {
   "cell_type": "code",
   "execution_count": 10,
   "metadata": {},
   "outputs": [],
   "source": [
    "url = \"http://api.vworld.kr/req/search?service=search&request=search&\\\n",
    "                                        &size=1&page=1&query={}&type=place&format=json&errorformat=json&crs=EPSG:5179\\\n",
    "                                                    &key=8FEEBFAF-A069-393A-B997-411AA9884913\""
   ]
  },
  {
   "cell_type": "code",
   "execution_count": 24,
   "metadata": {},
   "outputs": [],
   "source": [
    "addresses = pd.read_excel(\"C://Users/Youngju Hong/Desktop/address_foreignCenter.xlsx\", header = None, sheet_name = 1)"
   ]
  },
  {
   "cell_type": "code",
   "execution_count": 27,
   "metadata": {},
   "outputs": [
    {
     "data": {
      "text/html": [
       "<div>\n",
       "<style scoped>\n",
       "    .dataframe tbody tr th:only-of-type {\n",
       "        vertical-align: middle;\n",
       "    }\n",
       "\n",
       "    .dataframe tbody tr th {\n",
       "        vertical-align: top;\n",
       "    }\n",
       "\n",
       "    .dataframe thead th {\n",
       "        text-align: right;\n",
       "    }\n",
       "</style>\n",
       "<table border=\"1\" class=\"dataframe\">\n",
       "  <thead>\n",
       "    <tr style=\"text-align: right;\">\n",
       "      <th></th>\n",
       "      <th>0</th>\n",
       "      <th>1</th>\n",
       "      <th>2</th>\n",
       "      <th>3</th>\n",
       "      <th>4</th>\n",
       "    </tr>\n",
       "  </thead>\n",
       "  <tbody>\n",
       "    <tr>\n",
       "      <th>0</th>\n",
       "      <td>종로구</td>\n",
       "      <td>종로구건강가정다문화가족지원센터</td>\n",
       "      <td>서울 종로구 종로53길 29</td>\n",
       "      <td>서울특별시 종로구 창신동 197-17</td>\n",
       "      <td>서울특별시 종로구 창신동 197-17 토월</td>\n",
       "    </tr>\n",
       "    <tr>\n",
       "      <th>1</th>\n",
       "      <td>중구</td>\n",
       "      <td>중구건강가정다문화가족지원센터</td>\n",
       "      <td>서울 중구 퇴계로 460</td>\n",
       "      <td>서울특별시 중구 신당동 160-2</td>\n",
       "      <td>서울특별시 중구 신당동 160-2 중구구민복지관</td>\n",
       "    </tr>\n",
       "    <tr>\n",
       "      <th>2</th>\n",
       "      <td>용산구</td>\n",
       "      <td>용산구건강가정다문화가족지원센터</td>\n",
       "      <td>서울 용산구 이태원로 224-19</td>\n",
       "      <td>서울특별시 용산구 한남동 685-46</td>\n",
       "      <td>서울특별시 용산구 한남동 685-46 한남동공영주차장</td>\n",
       "    </tr>\n",
       "    <tr>\n",
       "      <th>3</th>\n",
       "      <td>성동구</td>\n",
       "      <td>성동구건강가정다문화가족지원센터</td>\n",
       "      <td>서울 성동구 무학로 6길 9</td>\n",
       "      <td>서울특별시 성동구 홍익동 373-1</td>\n",
       "      <td>서울특별시 성동구 홍익동 373-1 건강가정지원센터</td>\n",
       "    </tr>\n",
       "    <tr>\n",
       "      <th>4</th>\n",
       "      <td>광진구</td>\n",
       "      <td>광진구건강가정다문화가족지원센터</td>\n",
       "      <td>서울 광진구 아차산로 24길 17</td>\n",
       "      <td>서울특별시 광진구 자양동 13-28</td>\n",
       "      <td>서울특별시 광진구 자양동 13-28 자양공공힐링센터</td>\n",
       "    </tr>\n",
       "  </tbody>\n",
       "</table>\n",
       "</div>"
      ],
      "text/plain": [
       "     0                 1                   2                     3  \\\n",
       "0  종로구  종로구건강가정다문화가족지원센터     서울 종로구 종로53길 29  서울특별시 종로구 창신동 197-17   \n",
       "1   중구   중구건강가정다문화가족지원센터       서울 중구 퇴계로 460    서울특별시 중구 신당동 160-2   \n",
       "2  용산구  용산구건강가정다문화가족지원센터  서울 용산구 이태원로 224-19  서울특별시 용산구 한남동 685-46   \n",
       "3  성동구  성동구건강가정다문화가족지원센터     서울 성동구 무학로 6길 9   서울특별시 성동구 홍익동 373-1   \n",
       "4  광진구  광진구건강가정다문화가족지원센터  서울 광진구 아차산로 24길 17   서울특별시 광진구 자양동 13-28   \n",
       "\n",
       "                               4  \n",
       "0        서울특별시 종로구 창신동 197-17 토월  \n",
       "1     서울특별시 중구 신당동 160-2 중구구민복지관  \n",
       "2  서울특별시 용산구 한남동 685-46 한남동공영주차장  \n",
       "3   서울특별시 성동구 홍익동 373-1 건강가정지원센터  \n",
       "4   서울특별시 광진구 자양동 13-28 자양공공힐링센터  "
      ]
     },
     "execution_count": 27,
     "metadata": {},
     "output_type": "execute_result"
    }
   ],
   "source": [
    "addresses.head()"
   ]
  },
  {
   "cell_type": "code",
   "execution_count": 25,
   "metadata": {},
   "outputs": [],
   "source": [
    "import requests"
   ]
  },
  {
   "cell_type": "code",
   "execution_count": 28,
   "metadata": {},
   "outputs": [
    {
     "name": "stdout",
     "output_type": "stream",
     "text": [
      "검색어: 창일당고개경로당, 주소: 서울특별시 종로구 창신동 197-17, 좌표: ('957010.189022243', '1952813.002892104')\n",
      "--------------------------------------------------\n",
      "검색어: 중구장애인복지관, 주소: 서울특별시 중구 신당동 160-2, 좌표: ('957855.476421753', '1951854.791691082')\n",
      "--------------------------------------------------\n",
      "검색어: 한남동공영주차장(여성안심택배함), 주소: 서울특별시 용산구 한남동 685-46, 좌표: ('955848.959922766', '1948510.762087484')\n",
      "--------------------------------------------------\n",
      "검색어: 성동구다문화가족지원센터, 주소: 서울특별시 성동구 홍익동 373-1, 좌표: ('958590.76932145', '1951898.456291134')\n",
      "--------------------------------------------------\n",
      "검색어: 광진구청소년상담복지센터, 주소: 서울특별시 광진구 자양동 13-28, 좌표: ('961583.534919791', '1949083.724088122')\n",
      "--------------------------------------------------\n",
      "검색어: 다사랑행복센터입구, 주소: 서울특별시 동대문구 용두동 255-69, 좌표: ('958856.629821279', '1952597.180791881')\n",
      "--------------------------------------------------\n",
      "검색어: 중랑구다문화가족지원센터, 주소: 서울특별시 중랑구 면목동 62-2, 좌표: ('964162.844418541', '1954018.041993422')\n",
      "--------------------------------------------------\n",
      "검색어: 한국디지털대학교고려대캠퍼스, 주소: 서울특별시 성북구 안암동5가 1-2, 좌표: ('958190.20802169', '1954929.008594373')\n",
      "--------------------------------------------------\n",
      "검색어: (주)마이티브이, 주소: 서울특별시 강북구 번동 417-93, 좌표: ('958504.56002158', '1959909.824299675')\n",
      "--------------------------------------------------\n",
      "검색어: 도봉구다문화가족지원센터, 주소: 서울특별시 도봉구 창동 303, 좌표: ('959301.474621197', '1961721.317601599')\n",
      "--------------------------------------------------\n",
      "검색어: 노원구건강가정지원센터, 주소: 서울특별시 노원구 공릉동 569-19, 좌표: ('962287.235619575', '1958199.799697872')\n",
      "--------------------------------------------------\n",
      "--------------------------------------------------\n",
      "검색어: 서대문구다문화가족지원센터, 주소: 서울특별시 서대문구 북가좌동 333-5, 좌표: ('948159.764026869', '1953892.979493224')\n",
      "--------------------------------------------------\n",
      "검색어: 홀트일시보호소, 주소: 서울특별시 마포구 합정동 471, 좌표: ('947982.600026867', '1950139.004289203')\n",
      "--------------------------------------------------\n",
      "검색어: 신정3동현장민원실도서관, 주소: 서울특별시 양천구 신정동 1287-5, 좌표: ('941787.995730005', '1945983.019884699')\n",
      "--------------------------------------------------\n",
      "검색어: 강서구건강가정지원센터, 주소: 서울특별시 강서구 화곡동 890, 좌표: ('942471.119129697', '1947949.309686826')\n",
      "--------------------------------------------------\n",
      "--------------------------------------------------\n",
      "검색어: 자유총연맹금천구, 주소: 서울특별시 금천구 시흥동 841, 좌표: ('947306.354227068', '1939757.720877997')\n",
      "--------------------------------------------------\n",
      "검색어: 신길동, 주소: 서울특별시 영등포구 신길동 465-1, 좌표: ('948870.26862632', '1945919.424584669')\n",
      "--------------------------------------------------\n",
      "검색어: 동작구다문화가족지원센터, 주소: 서울특별시 동작구 사당동 1136-1, 좌표: ('953806.318323773', '1943366.689081932')\n",
      "--------------------------------------------------\n",
      "검색어: 관악문화관도서관, 주소: 서울특별시 관악구 신림동 209-1, 좌표: ('950922.229125252', '1941083.928479454')\n",
      "--------------------------------------------------\n",
      "검색어: 해마을주간보호센터, 주소: 서울특별시 강남구 개포동 14-2, 좌표: ('962675.142719244', '1943950.1211826')\n",
      "--------------------------------------------------\n",
      "검색어: 마천2동주민센터, 주소: 서울특별시 송파구 마천동 127-1, 좌표: ('968926.784016032', '1944232.552182927')\n",
      "--------------------------------------------------\n",
      "검색어: 강동구건강가정지원센터, 주소: 서울특별시 강동구 명일동 327-6, 좌표: ('968751.082516097', '1950105.53918924')\n",
      "--------------------------------------------------\n"
     ]
    }
   ],
   "source": [
    "searched_address = pd.DataFrame(columns=[\"검색 키워드\", \"주소\", \"위도\", \"경도\"])\n",
    "count = 0\n",
    "\n",
    "for i in range(len(addresses)):\n",
    "    temp_address = addresses.iloc[i, 3]\n",
    "    if temp_address == \"\":\n",
    "        break\n",
    "    try:\n",
    "        result = requests.get(url.format(temp_address)).json()[\"response\"][\"result\"][\"items\"][0]\n",
    "        #print(result)\n",
    "        #print(type(result))\n",
    "        print(f\"검색어: {result['title']}, 주소: {result['address']['parcel']}, 좌표: {result['point']['x'], result['point']['y']}\")\n",
    "        searched_address[count] = [result['title'], result['address']['parcel'], result['point']['x'], result['point']['y']]\n",
    "    except:\n",
    "        searched_address[count] = [temp_address, temp_address, None, None]\n",
    "    finally:\n",
    "        count += 1\n",
    "        print(\"-\" * 50)\n"
   ]
  },
  {
   "cell_type": "code",
   "execution_count": 29,
   "metadata": {},
   "outputs": [
    {
     "ename": "FileCreateError",
     "evalue": "[Errno 13] Permission denied: 'searched_address.xlsx'",
     "output_type": "error",
     "traceback": [
      "\u001b[1;31m---------------------------------------------------------------------------\u001b[0m",
      "\u001b[1;31mPermissionError\u001b[0m                           Traceback (most recent call last)",
      "\u001b[1;32m~\\anaconda3\\lib\\site-packages\\xlsxwriter\\workbook.py\u001b[0m in \u001b[0;36mclose\u001b[1;34m(self)\u001b[0m\n\u001b[0;32m    315\u001b[0m             \u001b[1;32mtry\u001b[0m\u001b[1;33m:\u001b[0m\u001b[1;33m\u001b[0m\u001b[1;33m\u001b[0m\u001b[0m\n\u001b[1;32m--> 316\u001b[1;33m                 \u001b[0mself\u001b[0m\u001b[1;33m.\u001b[0m\u001b[0m_store_workbook\u001b[0m\u001b[1;33m(\u001b[0m\u001b[1;33m)\u001b[0m\u001b[1;33m\u001b[0m\u001b[1;33m\u001b[0m\u001b[0m\n\u001b[0m\u001b[0;32m    317\u001b[0m             \u001b[1;32mexcept\u001b[0m \u001b[0mIOError\u001b[0m \u001b[1;32mas\u001b[0m \u001b[0me\u001b[0m\u001b[1;33m:\u001b[0m\u001b[1;33m\u001b[0m\u001b[1;33m\u001b[0m\u001b[0m\n",
      "\u001b[1;32m~\\anaconda3\\lib\\site-packages\\xlsxwriter\\workbook.py\u001b[0m in \u001b[0;36m_store_workbook\u001b[1;34m(self)\u001b[0m\n\u001b[0;32m    631\u001b[0m         \u001b[1;32mexcept\u001b[0m \u001b[0mIOError\u001b[0m \u001b[1;32mas\u001b[0m \u001b[0me\u001b[0m\u001b[1;33m:\u001b[0m\u001b[1;33m\u001b[0m\u001b[1;33m\u001b[0m\u001b[0m\n\u001b[1;32m--> 632\u001b[1;33m             \u001b[1;32mraise\u001b[0m \u001b[0me\u001b[0m\u001b[1;33m\u001b[0m\u001b[1;33m\u001b[0m\u001b[0m\n\u001b[0m\u001b[0;32m    633\u001b[0m \u001b[1;33m\u001b[0m\u001b[0m\n",
      "\u001b[1;32m~\\anaconda3\\lib\\site-packages\\xlsxwriter\\workbook.py\u001b[0m in \u001b[0;36m_store_workbook\u001b[1;34m(self)\u001b[0m\n\u001b[0;32m    629\u001b[0m             xlsx_file = ZipFile(self.filename, \"w\", compression=ZIP_DEFLATED,\n\u001b[1;32m--> 630\u001b[1;33m                                 allowZip64=self.allow_zip64)\n\u001b[0m\u001b[0;32m    631\u001b[0m         \u001b[1;32mexcept\u001b[0m \u001b[0mIOError\u001b[0m \u001b[1;32mas\u001b[0m \u001b[0me\u001b[0m\u001b[1;33m:\u001b[0m\u001b[1;33m\u001b[0m\u001b[1;33m\u001b[0m\u001b[0m\n",
      "\u001b[1;32m~\\anaconda3\\lib\\zipfile.py\u001b[0m in \u001b[0;36m__init__\u001b[1;34m(self, file, mode, compression, allowZip64, compresslevel)\u001b[0m\n\u001b[0;32m   1239\u001b[0m                 \u001b[1;32mtry\u001b[0m\u001b[1;33m:\u001b[0m\u001b[1;33m\u001b[0m\u001b[1;33m\u001b[0m\u001b[0m\n\u001b[1;32m-> 1240\u001b[1;33m                     \u001b[0mself\u001b[0m\u001b[1;33m.\u001b[0m\u001b[0mfp\u001b[0m \u001b[1;33m=\u001b[0m \u001b[0mio\u001b[0m\u001b[1;33m.\u001b[0m\u001b[0mopen\u001b[0m\u001b[1;33m(\u001b[0m\u001b[0mfile\u001b[0m\u001b[1;33m,\u001b[0m \u001b[0mfilemode\u001b[0m\u001b[1;33m)\u001b[0m\u001b[1;33m\u001b[0m\u001b[1;33m\u001b[0m\u001b[0m\n\u001b[0m\u001b[0;32m   1241\u001b[0m                 \u001b[1;32mexcept\u001b[0m \u001b[0mOSError\u001b[0m\u001b[1;33m:\u001b[0m\u001b[1;33m\u001b[0m\u001b[1;33m\u001b[0m\u001b[0m\n",
      "\u001b[1;31mPermissionError\u001b[0m: [Errno 13] Permission denied: 'searched_address.xlsx'",
      "\nDuring handling of the above exception, another exception occurred:\n",
      "\u001b[1;31mFileCreateError\u001b[0m                           Traceback (most recent call last)",
      "\u001b[1;32m<ipython-input-29-58eb08cf138b>\u001b[0m in \u001b[0;36m<module>\u001b[1;34m\u001b[0m\n\u001b[0;32m      1\u001b[0m \u001b[0msearched_address\u001b[0m\u001b[1;33m=\u001b[0m \u001b[0msearched_address\u001b[0m\u001b[1;33m.\u001b[0m\u001b[0mtranspose\u001b[0m\u001b[1;33m(\u001b[0m\u001b[1;33m)\u001b[0m\u001b[1;33m\u001b[0m\u001b[1;33m\u001b[0m\u001b[0m\n\u001b[1;32m----> 2\u001b[1;33m \u001b[0msearched_address\u001b[0m\u001b[1;33m.\u001b[0m\u001b[0mto_excel\u001b[0m\u001b[1;33m(\u001b[0m\u001b[1;34m\"searched_address.xlsx\"\u001b[0m\u001b[1;33m)\u001b[0m\u001b[1;33m\u001b[0m\u001b[1;33m\u001b[0m\u001b[0m\n\u001b[0m",
      "\u001b[1;32m~\\anaconda3\\lib\\site-packages\\pandas\\core\\generic.py\u001b[0m in \u001b[0;36mto_excel\u001b[1;34m(self, excel_writer, sheet_name, na_rep, float_format, columns, header, index, index_label, startrow, startcol, engine, merge_cells, encoding, inf_rep, verbose, freeze_panes)\u001b[0m\n\u001b[0;32m   2179\u001b[0m             \u001b[0mstartcol\u001b[0m\u001b[1;33m=\u001b[0m\u001b[0mstartcol\u001b[0m\u001b[1;33m,\u001b[0m\u001b[1;33m\u001b[0m\u001b[1;33m\u001b[0m\u001b[0m\n\u001b[0;32m   2180\u001b[0m             \u001b[0mfreeze_panes\u001b[0m\u001b[1;33m=\u001b[0m\u001b[0mfreeze_panes\u001b[0m\u001b[1;33m,\u001b[0m\u001b[1;33m\u001b[0m\u001b[1;33m\u001b[0m\u001b[0m\n\u001b[1;32m-> 2181\u001b[1;33m             \u001b[0mengine\u001b[0m\u001b[1;33m=\u001b[0m\u001b[0mengine\u001b[0m\u001b[1;33m,\u001b[0m\u001b[1;33m\u001b[0m\u001b[1;33m\u001b[0m\u001b[0m\n\u001b[0m\u001b[0;32m   2182\u001b[0m         )\n\u001b[0;32m   2183\u001b[0m \u001b[1;33m\u001b[0m\u001b[0m\n",
      "\u001b[1;32m~\\anaconda3\\lib\\site-packages\\pandas\\io\\formats\\excel.py\u001b[0m in \u001b[0;36mwrite\u001b[1;34m(self, writer, sheet_name, startrow, startcol, freeze_panes, engine)\u001b[0m\n\u001b[0;32m    736\u001b[0m         )\n\u001b[0;32m    737\u001b[0m         \u001b[1;32mif\u001b[0m \u001b[0mneed_save\u001b[0m\u001b[1;33m:\u001b[0m\u001b[1;33m\u001b[0m\u001b[1;33m\u001b[0m\u001b[0m\n\u001b[1;32m--> 738\u001b[1;33m             \u001b[0mwriter\u001b[0m\u001b[1;33m.\u001b[0m\u001b[0msave\u001b[0m\u001b[1;33m(\u001b[0m\u001b[1;33m)\u001b[0m\u001b[1;33m\u001b[0m\u001b[1;33m\u001b[0m\u001b[0m\n\u001b[0m",
      "\u001b[1;32m~\\anaconda3\\lib\\site-packages\\pandas\\io\\excel\\_xlsxwriter.py\u001b[0m in \u001b[0;36msave\u001b[1;34m(self)\u001b[0m\n\u001b[0;32m    193\u001b[0m         \"\"\"\n\u001b[0;32m    194\u001b[0m \u001b[1;33m\u001b[0m\u001b[0m\n\u001b[1;32m--> 195\u001b[1;33m         \u001b[1;32mreturn\u001b[0m \u001b[0mself\u001b[0m\u001b[1;33m.\u001b[0m\u001b[0mbook\u001b[0m\u001b[1;33m.\u001b[0m\u001b[0mclose\u001b[0m\u001b[1;33m(\u001b[0m\u001b[1;33m)\u001b[0m\u001b[1;33m\u001b[0m\u001b[1;33m\u001b[0m\u001b[0m\n\u001b[0m\u001b[0;32m    196\u001b[0m \u001b[1;33m\u001b[0m\u001b[0m\n\u001b[0;32m    197\u001b[0m     def write_cells(\n",
      "\u001b[1;32m~\\anaconda3\\lib\\site-packages\\xlsxwriter\\workbook.py\u001b[0m in \u001b[0;36mclose\u001b[1;34m(self)\u001b[0m\n\u001b[0;32m    316\u001b[0m                 \u001b[0mself\u001b[0m\u001b[1;33m.\u001b[0m\u001b[0m_store_workbook\u001b[0m\u001b[1;33m(\u001b[0m\u001b[1;33m)\u001b[0m\u001b[1;33m\u001b[0m\u001b[1;33m\u001b[0m\u001b[0m\n\u001b[0;32m    317\u001b[0m             \u001b[1;32mexcept\u001b[0m \u001b[0mIOError\u001b[0m \u001b[1;32mas\u001b[0m \u001b[0me\u001b[0m\u001b[1;33m:\u001b[0m\u001b[1;33m\u001b[0m\u001b[1;33m\u001b[0m\u001b[0m\n\u001b[1;32m--> 318\u001b[1;33m                 \u001b[1;32mraise\u001b[0m \u001b[0mFileCreateError\u001b[0m\u001b[1;33m(\u001b[0m\u001b[0me\u001b[0m\u001b[1;33m)\u001b[0m\u001b[1;33m\u001b[0m\u001b[1;33m\u001b[0m\u001b[0m\n\u001b[0m\u001b[0;32m    319\u001b[0m             \u001b[1;32mexcept\u001b[0m \u001b[0mLargeZipFile\u001b[0m \u001b[1;32mas\u001b[0m \u001b[0me\u001b[0m\u001b[1;33m:\u001b[0m\u001b[1;33m\u001b[0m\u001b[1;33m\u001b[0m\u001b[0m\n\u001b[0;32m    320\u001b[0m                 raise FileSizeError(\"Filesize would require ZIP64 extensions. \"\n",
      "\u001b[1;31mFileCreateError\u001b[0m: [Errno 13] Permission denied: 'searched_address.xlsx'"
     ]
    }
   ],
   "source": [
    "searched_address= searched_address.transpose()\n",
    "searched_address.to_excel(\"searched_address.xlsx\")"
   ]
  },
  {
   "cell_type": "code",
   "execution_count": null,
   "metadata": {},
   "outputs": [],
   "source": []
  },
  {
   "cell_type": "code",
   "execution_count": null,
   "metadata": {},
   "outputs": [],
   "source": []
  },
  {
   "cell_type": "code",
   "execution_count": null,
   "metadata": {},
   "outputs": [],
   "source": []
  },
  {
   "cell_type": "code",
   "execution_count": null,
   "metadata": {},
   "outputs": [],
   "source": []
  }
 ],
 "metadata": {
  "kernelspec": {
   "display_name": "Python 3",
   "language": "python",
   "name": "python3"
  },
  "language_info": {
   "codemirror_mode": {
    "name": "ipython",
    "version": 3
   },
   "file_extension": ".py",
   "mimetype": "text/x-python",
   "name": "python",
   "nbconvert_exporter": "python",
   "pygments_lexer": "ipython3",
   "version": "3.7.6"
  }
 },
 "nbformat": 4,
 "nbformat_minor": 4
}
