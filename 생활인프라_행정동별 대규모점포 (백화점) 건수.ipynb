{
 "cells": [
  {
   "cell_type": "code",
   "execution_count": 32,
   "metadata": {},
   "outputs": [],
   "source": [
    "import pandas as pd\n",
    "\n",
    "data = pd.read_csv(\"/Users/hong/Downloads/서울특별시 대규모점포 인허가 정보.csv\", encoding = \"cp949\")"
   ]
  },
  {
   "cell_type": "code",
   "execution_count": 37,
   "metadata": {},
   "outputs": [],
   "source": [
    "department_store = data[data[\"업태구분명\"] == \"백화점\"]"
   ]
  },
  {
   "cell_type": "code",
   "execution_count": 38,
   "metadata": {},
   "outputs": [],
   "source": [
    "department_store2 = data[data[\"사업장명\"].apply(lambda x: True if x.find(\"백화점\") > -1 else False)]"
   ]
  },
  {
   "cell_type": "code",
   "execution_count": 39,
   "metadata": {},
   "outputs": [],
   "source": [
    "department_store = pd.concat([department_store, department_store2])"
   ]
  },
  {
   "cell_type": "code",
   "execution_count": 40,
   "metadata": {},
   "outputs": [],
   "source": [
    "department_store = department_store.drop_duplicates()"
   ]
  },
  {
   "cell_type": "code",
   "execution_count": 28,
   "metadata": {},
   "outputs": [],
   "source": [
    "department_store = department_store[department_store[\"상세영업상태명\"] == \"정상영업\"]"
   ]
  },
  {
   "cell_type": "code",
   "execution_count": 41,
   "metadata": {},
   "outputs": [],
   "source": [
    "department_store.to_csv(\"department_store.csv\", encoding = \"cp949\")"
   ]
  },
  {
   "cell_type": "code",
   "execution_count": 7,
   "metadata": {},
   "outputs": [],
   "source": []
  },
  {
   "cell_type": "code",
   "execution_count": 10,
   "metadata": {},
   "outputs": [
    {
     "data": {
      "text/html": [
       "<div>\n",
       "<style scoped>\n",
       "    .dataframe tbody tr th:only-of-type {\n",
       "        vertical-align: middle;\n",
       "    }\n",
       "\n",
       "    .dataframe tbody tr th {\n",
       "        vertical-align: top;\n",
       "    }\n",
       "\n",
       "    .dataframe thead th {\n",
       "        text-align: right;\n",
       "    }\n",
       "</style>\n",
       "<table border=\"1\" class=\"dataframe\">\n",
       "  <thead>\n",
       "    <tr style=\"text-align: right;\">\n",
       "      <th></th>\n",
       "      <th>개방자치단체코드</th>\n",
       "      <th>관리번호</th>\n",
       "      <th>인허가일자</th>\n",
       "      <th>인허가취소일자</th>\n",
       "      <th>영업상태코드</th>\n",
       "      <th>영업상태명</th>\n",
       "      <th>상세영업상태코드</th>\n",
       "      <th>상세영업상태명</th>\n",
       "      <th>폐업일자</th>\n",
       "      <th>휴업시작일자</th>\n",
       "      <th>...</th>\n",
       "      <th>도로명우편번호</th>\n",
       "      <th>사업장명</th>\n",
       "      <th>최종수정일자</th>\n",
       "      <th>데이터갱신구분</th>\n",
       "      <th>데이터갱신일자</th>\n",
       "      <th>업태구분명</th>\n",
       "      <th>좌표정보(X)</th>\n",
       "      <th>좌표정보(Y)</th>\n",
       "      <th>점포구분명</th>\n",
       "      <th>백화점</th>\n",
       "    </tr>\n",
       "  </thead>\n",
       "  <tbody>\n",
       "  </tbody>\n",
       "</table>\n",
       "<p>0 rows × 27 columns</p>\n",
       "</div>"
      ],
      "text/plain": [
       "Empty DataFrame\n",
       "Columns: [개방자치단체코드, 관리번호, 인허가일자, 인허가취소일자, 영업상태코드, 영업상태명, 상세영업상태코드, 상세영업상태명, 폐업일자, 휴업시작일자, 휴업종료일자, 재개업일자, 전화번호, 소재지면적, 소재지우편번호, 지번주소, 도로명주소, 도로명우편번호, 사업장명, 최종수정일자, 데이터갱신구분, 데이터갱신일자, 업태구분명, 좌표정보(X), 좌표정보(Y), 점포구분명, 백화점]\n",
       "Index: []\n",
       "\n",
       "[0 rows x 27 columns]"
      ]
     },
     "execution_count": 10,
     "metadata": {},
     "output_type": "execute_result"
    }
   ],
   "source": [
    "department_store"
   ]
  },
  {
   "cell_type": "code",
   "execution_count": null,
   "metadata": {},
   "outputs": [],
   "source": []
  }
 ],
 "metadata": {
  "kernelspec": {
   "display_name": "Python 3",
   "language": "python",
   "name": "python3"
  },
  "language_info": {
   "codemirror_mode": {
    "name": "ipython",
    "version": 3
   },
   "file_extension": ".py",
   "mimetype": "text/x-python",
   "name": "python",
   "nbconvert_exporter": "python",
   "pygments_lexer": "ipython3",
   "version": "3.7.4"
  }
 },
 "nbformat": 4,
 "nbformat_minor": 4
}
