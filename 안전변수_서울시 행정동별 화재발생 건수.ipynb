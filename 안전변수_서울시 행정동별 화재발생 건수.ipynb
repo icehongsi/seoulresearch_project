{
 "cells": [
  {
   "cell_type": "code",
   "execution_count": 1,
   "metadata": {},
   "outputs": [],
   "source": [
    "import pandas as pd\n",
    "dir = \"C:\\\\Users\\Youngju Hong\\Documents\\GitHub\\seoulresearch_project\\Research\\safety\""
   ]
  },
  {
   "cell_type": "code",
   "execution_count": 22,
   "metadata": {},
   "outputs": [],
   "source": [
    "data = pd.read_table(f\"{dir}\\서울시 화재발생 현황 (동별) 통계.txt\", header= 0, sep = \"\\t\")"
   ]
  },
  {
   "cell_type": "code",
   "execution_count": 23,
   "metadata": {},
   "outputs": [
    {
     "name": "stdout",
     "output_type": "stream",
     "text": [
      "       기간  자치구     동     발생   발생.1 발생.2 발생.3   소실   소실.1    소실.2         피해액  \\\n",
      "0      기간  자치구     동     합계     실화   방화   기타   동수  이재가구수      면적          합계   \n",
      "1    2019   합계    합계  5,881  5,251  136  494  773    171  32,221  92,409,010   \n",
      "2    2019  종로구    소계    232    201    7   24    3      2   1,001     801,094   \n",
      "3    2019  종로구   사직동      8      6    2    -    -      -       2       1,160   \n",
      "4    2019  종로구   삼청동      5      5    -    -    -      -      23      59,533   \n",
      "..    ...  ...   ...    ...    ...  ...  ...  ...    ...     ...         ...   \n",
      "444  2019  강동구  성내3동     14     14    -    -    1      -       7      42,870   \n",
      "445  2019  강동구  둔촌2동     16     16    -    -    2      -     159      86,327   \n",
      "446  2019  강동구  암사1동     30     29    -    1    3      -      39      21,580   \n",
      "447  2019  강동구  천호2동     34     30    2    2    2      -       8      41,024   \n",
      "448  2019  강동구    길동     18     16    -    2    1      -     405      13,631   \n",
      "\n",
      "          피해액.1       피해액.2      재산피해경감액 인명피해 인명피해.1 인명피해.2  이재민수  구조인원  \n",
      "0           부동산          동산      재산피해경감액   합계     사망     부상  이재민수  구조인원  \n",
      "1    12,331,390  80,077,620  384,176,624  398     37    361   318   921  \n",
      "2       403,054     398,040   22,189,709   20      4     16    17    23  \n",
      "3           625         535    5,058,849    3      1      2     -     2  \n",
      "4        36,449      23,084       83,931    -      -      -     -     -  \n",
      "..          ...         ...          ...  ...    ...    ...   ...   ...  \n",
      "444      14,671      28,199      162,590    -      -      -     -     -  \n",
      "445      33,930      52,397      101,124    9      -      9     -     5  \n",
      "446       6,623      14,957       62,485    -      -      -     -     6  \n",
      "447      10,901      30,123       65,608    -      -      -     -    11  \n",
      "448       3,887       9,744       44,260    -      -      -     -     1  \n",
      "\n",
      "[449 rows x 19 columns]\n",
      "          기간  자치구    동   발생 발생.1 발생.2 발생.3   소실 소실.1 소실.2  피해액 피해액.1 피해액.2  \\\n",
      "count    449  449  449  449  449  449  449  449  449  449  449   449   449   \n",
      "unique     2   27  424   70   66   14   26   35   21  156  449   426   447   \n",
      "top     2019  송파구   소계    9    8    -    -    -    -    -  690     -   671   \n",
      "freq     448   28   25   40   42  317  168  164  377   69    1    19     2   \n",
      "\n",
      "       재산피해경감액 인명피해 인명피해.1 인명피해.2 이재민수 구조인원  \n",
      "count      449  449    449    449  449  449  \n",
      "unique     440   25      8     25   27   39  \n",
      "top          -    -      -      -    -    -  \n",
      "freq         9  258    395    272  377  235  \n"
     ]
    }
   ],
   "source": [
    "print(data)\n",
    "print(data.describe())"
   ]
  },
  {
   "cell_type": "code",
   "execution_count": 24,
   "metadata": {},
   "outputs": [
    {
     "data": {
      "text/plain": [
       "Index(['기간', '자치구', '동', '발생', '발생.1', '발생.2', '발생.3', '소실', '소실.1', '소실.2',\n",
       "       '피해액', '피해액.1', '피해액.2', '재산피해경감액', '인명피해', '인명피해.1', '인명피해.2', '이재민수',\n",
       "       '구조인원'],\n",
       "      dtype='object')"
      ]
     },
     "execution_count": 24,
     "metadata": {},
     "output_type": "execute_result"
    }
   ],
   "source": [
    "data.columns"
   ]
  },
  {
   "cell_type": "code",
   "execution_count": 25,
   "metadata": {},
   "outputs": [],
   "source": [
    "data[\"구동\"] = data.iloc[:, 1] + \" \" + data.iloc[:, 2]"
   ]
  },
  {
   "cell_type": "code",
   "execution_count": 27,
   "metadata": {},
   "outputs": [
    {
     "data": {
      "text/plain": [
       "0         자치구 동\n",
       "1         합계 합계\n",
       "2        종로구 소계\n",
       "3       종로구 사직동\n",
       "4       종로구 삼청동\n",
       "         ...   \n",
       "444    강동구 성내3동\n",
       "445    강동구 둔촌2동\n",
       "446    강동구 암사1동\n",
       "447    강동구 천호2동\n",
       "448      강동구 길동\n",
       "Name: 구동, Length: 449, dtype: object"
      ]
     },
     "execution_count": 27,
     "metadata": {},
     "output_type": "execute_result"
    }
   ],
   "source": [
    "data[\"구동\"]"
   ]
  },
  {
   "cell_type": "code",
   "execution_count": 40,
   "metadata": {},
   "outputs": [],
   "source": [
    "data = data.sort_values([\"구동\", \"발생\"])[[\"자치구\", \"동\",\"발생\",\"구동\"]]"
   ]
  },
  {
   "cell_type": "code",
   "execution_count": 41,
   "metadata": {},
   "outputs": [
    {
     "data": {
      "text/html": [
       "<div>\n",
       "<style scoped>\n",
       "    .dataframe tbody tr th:only-of-type {\n",
       "        vertical-align: middle;\n",
       "    }\n",
       "\n",
       "    .dataframe tbody tr th {\n",
       "        vertical-align: top;\n",
       "    }\n",
       "\n",
       "    .dataframe thead th {\n",
       "        text-align: right;\n",
       "    }\n",
       "</style>\n",
       "<table border=\"1\" class=\"dataframe\">\n",
       "  <thead>\n",
       "    <tr style=\"text-align: right;\">\n",
       "      <th></th>\n",
       "      <th>자치구</th>\n",
       "      <th>동</th>\n",
       "      <th>발생</th>\n",
       "      <th>구동</th>\n",
       "    </tr>\n",
       "  </thead>\n",
       "  <tbody>\n",
       "    <tr>\n",
       "      <th>392</th>\n",
       "      <td>강남구</td>\n",
       "      <td>개포1동</td>\n",
       "      <td>2</td>\n",
       "      <td>강남구 개포1동</td>\n",
       "    </tr>\n",
       "    <tr>\n",
       "      <th>402</th>\n",
       "      <td>강남구</td>\n",
       "      <td>개포2동</td>\n",
       "      <td>6</td>\n",
       "      <td>강남구 개포2동</td>\n",
       "    </tr>\n",
       "    <tr>\n",
       "      <th>393</th>\n",
       "      <td>강남구</td>\n",
       "      <td>개포4동</td>\n",
       "      <td>13</td>\n",
       "      <td>강남구 개포4동</td>\n",
       "    </tr>\n",
       "    <tr>\n",
       "      <th>382</th>\n",
       "      <td>강남구</td>\n",
       "      <td>논현1동</td>\n",
       "      <td>44</td>\n",
       "      <td>강남구 논현1동</td>\n",
       "    </tr>\n",
       "    <tr>\n",
       "      <th>383</th>\n",
       "      <td>강남구</td>\n",
       "      <td>논현2동</td>\n",
       "      <td>36</td>\n",
       "      <td>강남구 논현2동</td>\n",
       "    </tr>\n",
       "    <tr>\n",
       "      <th>...</th>\n",
       "      <td>...</td>\n",
       "      <td>...</td>\n",
       "      <td>...</td>\n",
       "      <td>...</td>\n",
       "    </tr>\n",
       "    <tr>\n",
       "      <th>113</th>\n",
       "      <td>중랑구</td>\n",
       "      <td>신내1동</td>\n",
       "      <td>15</td>\n",
       "      <td>중랑구 신내1동</td>\n",
       "    </tr>\n",
       "    <tr>\n",
       "      <th>114</th>\n",
       "      <td>중랑구</td>\n",
       "      <td>신내2동</td>\n",
       "      <td>9</td>\n",
       "      <td>중랑구 신내2동</td>\n",
       "    </tr>\n",
       "    <tr>\n",
       "      <th>108</th>\n",
       "      <td>중랑구</td>\n",
       "      <td>중화1동</td>\n",
       "      <td>9</td>\n",
       "      <td>중랑구 중화1동</td>\n",
       "    </tr>\n",
       "    <tr>\n",
       "      <th>109</th>\n",
       "      <td>중랑구</td>\n",
       "      <td>중화2동</td>\n",
       "      <td>22</td>\n",
       "      <td>중랑구 중화2동</td>\n",
       "    </tr>\n",
       "    <tr>\n",
       "      <th>1</th>\n",
       "      <td>합계</td>\n",
       "      <td>합계</td>\n",
       "      <td>5,881</td>\n",
       "      <td>합계 합계</td>\n",
       "    </tr>\n",
       "  </tbody>\n",
       "</table>\n",
       "<p>449 rows × 4 columns</p>\n",
       "</div>"
      ],
      "text/plain": [
       "     자치구     동     발생        구동\n",
       "392  강남구  개포1동      2  강남구 개포1동\n",
       "402  강남구  개포2동      6  강남구 개포2동\n",
       "393  강남구  개포4동     13  강남구 개포4동\n",
       "382  강남구  논현1동     44  강남구 논현1동\n",
       "383  강남구  논현2동     36  강남구 논현2동\n",
       "..   ...   ...    ...       ...\n",
       "113  중랑구  신내1동     15  중랑구 신내1동\n",
       "114  중랑구  신내2동      9  중랑구 신내2동\n",
       "108  중랑구  중화1동      9  중랑구 중화1동\n",
       "109  중랑구  중화2동     22  중랑구 중화2동\n",
       "1     합계    합계  5,881     합계 합계\n",
       "\n",
       "[449 rows x 4 columns]"
      ]
     },
     "execution_count": 41,
     "metadata": {},
     "output_type": "execute_result"
    }
   ],
   "source": [
    "dat"
   ]
  },
  {
   "cell_type": "code",
   "execution_count": 53,
   "metadata": {},
   "outputs": [],
   "source": [
    "code = pd.read_csv(\"C:\\\\Users\\Youngju Hong\\Documents\\GitHub\\seoulresearch_project\\Research\\safety\\행정동코드.csv\")\n",
    "code = code.loc[:, [\"구동\", \"통계청코드\"]]"
   ]
  },
  {
   "cell_type": "code",
   "execution_count": 46,
   "metadata": {},
   "outputs": [],
   "source": [
    "#code = dict(zip(code[\"구동\"], code[\"통계청코드\"]))"
   ]
  },
  {
   "cell_type": "code",
   "execution_count": 47,
   "metadata": {},
   "outputs": [],
   "source": [
    "#data[\"code\"] = data[\"구동\"].apply(lambda x: code[x] if x in code else \"\")"
   ]
  },
  {
   "cell_type": "code",
   "execution_count": 50,
   "metadata": {},
   "outputs": [],
   "source": [
    "#data = data[data[\"code\"] != \"\"]"
   ]
  },
  {
   "cell_type": "code",
   "execution_count": 59,
   "metadata": {},
   "outputs": [],
   "source": [
    "pd.merge(code, data, how = \"left\").to_excel(\"화재발생통계.excel\")"
   ]
  },
  {
   "cell_type": "code",
   "execution_count": 51,
   "metadata": {},
   "outputs": [
    {
     "data": {
      "text/html": [
       "<div>\n",
       "<style scoped>\n",
       "    .dataframe tbody tr th:only-of-type {\n",
       "        vertical-align: middle;\n",
       "    }\n",
       "\n",
       "    .dataframe tbody tr th {\n",
       "        vertical-align: top;\n",
       "    }\n",
       "\n",
       "    .dataframe thead th {\n",
       "        text-align: right;\n",
       "    }\n",
       "</style>\n",
       "<table border=\"1\" class=\"dataframe\">\n",
       "  <thead>\n",
       "    <tr style=\"text-align: right;\">\n",
       "      <th></th>\n",
       "      <th>자치구</th>\n",
       "      <th>동</th>\n",
       "      <th>발생</th>\n",
       "      <th>구동</th>\n",
       "      <th>code</th>\n",
       "    </tr>\n",
       "  </thead>\n",
       "  <tbody>\n",
       "    <tr>\n",
       "      <th>392</th>\n",
       "      <td>강남구</td>\n",
       "      <td>개포1동</td>\n",
       "      <td>2</td>\n",
       "      <td>강남구 개포1동</td>\n",
       "      <td>1123068</td>\n",
       "    </tr>\n",
       "    <tr>\n",
       "      <th>402</th>\n",
       "      <td>강남구</td>\n",
       "      <td>개포2동</td>\n",
       "      <td>6</td>\n",
       "      <td>강남구 개포2동</td>\n",
       "      <td>1123080</td>\n",
       "    </tr>\n",
       "    <tr>\n",
       "      <th>393</th>\n",
       "      <td>강남구</td>\n",
       "      <td>개포4동</td>\n",
       "      <td>13</td>\n",
       "      <td>강남구 개포4동</td>\n",
       "      <td>1123071</td>\n",
       "    </tr>\n",
       "    <tr>\n",
       "      <th>382</th>\n",
       "      <td>강남구</td>\n",
       "      <td>논현1동</td>\n",
       "      <td>44</td>\n",
       "      <td>강남구 논현1동</td>\n",
       "      <td>1123052</td>\n",
       "    </tr>\n",
       "    <tr>\n",
       "      <th>383</th>\n",
       "      <td>강남구</td>\n",
       "      <td>논현2동</td>\n",
       "      <td>36</td>\n",
       "      <td>강남구 논현2동</td>\n",
       "      <td>1123053</td>\n",
       "    </tr>\n",
       "    <tr>\n",
       "      <th>...</th>\n",
       "      <td>...</td>\n",
       "      <td>...</td>\n",
       "      <td>...</td>\n",
       "      <td>...</td>\n",
       "      <td>...</td>\n",
       "    </tr>\n",
       "    <tr>\n",
       "      <th>107</th>\n",
       "      <td>중랑구</td>\n",
       "      <td>상봉2동</td>\n",
       "      <td>16</td>\n",
       "      <td>중랑구 상봉2동</td>\n",
       "      <td>1107060</td>\n",
       "    </tr>\n",
       "    <tr>\n",
       "      <th>113</th>\n",
       "      <td>중랑구</td>\n",
       "      <td>신내1동</td>\n",
       "      <td>15</td>\n",
       "      <td>중랑구 신내1동</td>\n",
       "      <td>1107069</td>\n",
       "    </tr>\n",
       "    <tr>\n",
       "      <th>114</th>\n",
       "      <td>중랑구</td>\n",
       "      <td>신내2동</td>\n",
       "      <td>9</td>\n",
       "      <td>중랑구 신내2동</td>\n",
       "      <td>1107070</td>\n",
       "    </tr>\n",
       "    <tr>\n",
       "      <th>108</th>\n",
       "      <td>중랑구</td>\n",
       "      <td>중화1동</td>\n",
       "      <td>9</td>\n",
       "      <td>중랑구 중화1동</td>\n",
       "      <td>1107061</td>\n",
       "    </tr>\n",
       "    <tr>\n",
       "      <th>109</th>\n",
       "      <td>중랑구</td>\n",
       "      <td>중화2동</td>\n",
       "      <td>22</td>\n",
       "      <td>중랑구 중화2동</td>\n",
       "      <td>1107062</td>\n",
       "    </tr>\n",
       "  </tbody>\n",
       "</table>\n",
       "<p>421 rows × 5 columns</p>\n",
       "</div>"
      ],
      "text/plain": [
       "     자치구     동  발생        구동     code\n",
       "392  강남구  개포1동   2  강남구 개포1동  1123068\n",
       "402  강남구  개포2동   6  강남구 개포2동  1123080\n",
       "393  강남구  개포4동  13  강남구 개포4동  1123071\n",
       "382  강남구  논현1동  44  강남구 논현1동  1123052\n",
       "383  강남구  논현2동  36  강남구 논현2동  1123053\n",
       "..   ...   ...  ..       ...      ...\n",
       "107  중랑구  상봉2동  16  중랑구 상봉2동  1107060\n",
       "113  중랑구  신내1동  15  중랑구 신내1동  1107069\n",
       "114  중랑구  신내2동   9  중랑구 신내2동  1107070\n",
       "108  중랑구  중화1동   9  중랑구 중화1동  1107061\n",
       "109  중랑구  중화2동  22  중랑구 중화2동  1107062\n",
       "\n",
       "[421 rows x 5 columns]"
      ]
     },
     "execution_count": 51,
     "metadata": {},
     "output_type": "execute_result"
    }
   ],
   "source": [
    "data"
   ]
  },
  {
   "cell_type": "code",
   "execution_count": null,
   "metadata": {},
   "outputs": [],
   "source": []
  }
 ],
 "metadata": {
  "kernelspec": {
   "display_name": "Python 3",
   "language": "python",
   "name": "python3"
  },
  "language_info": {
   "codemirror_mode": {
    "name": "ipython",
    "version": 3
   },
   "file_extension": ".py",
   "mimetype": "text/x-python",
   "name": "python",
   "nbconvert_exporter": "python",
   "pygments_lexer": "ipython3",
   "version": "3.8.5"
  }
 },
 "nbformat": 4,
 "nbformat_minor": 4
}
