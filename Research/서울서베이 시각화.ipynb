{
 "cells": [
  {
   "cell_type": "code",
   "execution_count": 16,
   "metadata": {},
   "outputs": [],
   "source": [
    "import pandas as pd\n",
    "import matplotlib.pyplot as plt"
   ]
  },
  {
   "cell_type": "code",
   "execution_count": 17,
   "metadata": {},
   "outputs": [],
   "source": [
    "data = pd.read_excel(\"C:/Users/Youngju Hong/Documents/projectfile/2019 서울서베이 자료.xlsx\")"
   ]
  },
  {
   "cell_type": "code",
   "execution_count": 18,
   "metadata": {},
   "outputs": [
    {
     "data": {
      "text/html": [
       "<div>\n",
       "<style scoped>\n",
       "    .dataframe tbody tr th:only-of-type {\n",
       "        vertical-align: middle;\n",
       "    }\n",
       "\n",
       "    .dataframe tbody tr th {\n",
       "        vertical-align: top;\n",
       "    }\n",
       "\n",
       "    .dataframe thead th {\n",
       "        text-align: right;\n",
       "    }\n",
       "</style>\n",
       "<table border=\"1\" class=\"dataframe\">\n",
       "  <thead>\n",
       "    <tr style=\"text-align: right;\">\n",
       "      <th></th>\n",
       "      <th>date</th>\n",
       "      <th>id</th>\n",
       "      <th>sq1</th>\n",
       "      <th>sq1_1</th>\n",
       "      <th>sq2</th>\n",
       "      <th>sq3</th>\n",
       "      <th>sq4_1</th>\n",
       "      <th>sq4_2</th>\n",
       "      <th>sq5</th>\n",
       "      <th>sq6</th>\n",
       "      <th>...</th>\n",
       "      <th>q19</th>\n",
       "      <th>q20_1</th>\n",
       "      <th>q20_2</th>\n",
       "      <th>q21</th>\n",
       "      <th>q22</th>\n",
       "      <th>q23</th>\n",
       "      <th>q24_1</th>\n",
       "      <th>q24_2</th>\n",
       "      <th>RWT</th>\n",
       "      <th>RWT1</th>\n",
       "    </tr>\n",
       "  </thead>\n",
       "  <tbody>\n",
       "    <tr>\n",
       "      <th>0</th>\n",
       "      <td>20200527</td>\n",
       "      <td>1</td>\n",
       "      <td>1</td>\n",
       "      <td>NaN</td>\n",
       "      <td>3</td>\n",
       "      <td>1998</td>\n",
       "      <td>2</td>\n",
       "      <td>0</td>\n",
       "      <td>4</td>\n",
       "      <td>4</td>\n",
       "      <td>...</td>\n",
       "      <td>1</td>\n",
       "      <td>2</td>\n",
       "      <td>3.0</td>\n",
       "      <td>10</td>\n",
       "      <td>NaN</td>\n",
       "      <td>NaN</td>\n",
       "      <td>6</td>\n",
       "      <td>2.0</td>\n",
       "      <td>59.447999</td>\n",
       "      <td>0.381985</td>\n",
       "    </tr>\n",
       "    <tr>\n",
       "      <th>1</th>\n",
       "      <td>20200527</td>\n",
       "      <td>2</td>\n",
       "      <td>2</td>\n",
       "      <td>NaN</td>\n",
       "      <td>3</td>\n",
       "      <td>1998</td>\n",
       "      <td>2</td>\n",
       "      <td>4</td>\n",
       "      <td>4</td>\n",
       "      <td>3</td>\n",
       "      <td>...</td>\n",
       "      <td>1</td>\n",
       "      <td>3</td>\n",
       "      <td>2.0</td>\n",
       "      <td>10</td>\n",
       "      <td>NaN</td>\n",
       "      <td>NaN</td>\n",
       "      <td>6</td>\n",
       "      <td>2.0</td>\n",
       "      <td>69.394611</td>\n",
       "      <td>0.445897</td>\n",
       "    </tr>\n",
       "    <tr>\n",
       "      <th>2</th>\n",
       "      <td>20200527</td>\n",
       "      <td>3</td>\n",
       "      <td>2</td>\n",
       "      <td>NaN</td>\n",
       "      <td>3</td>\n",
       "      <td>1991</td>\n",
       "      <td>3</td>\n",
       "      <td>7</td>\n",
       "      <td>4</td>\n",
       "      <td>3</td>\n",
       "      <td>...</td>\n",
       "      <td>3</td>\n",
       "      <td>2</td>\n",
       "      <td>3.0</td>\n",
       "      <td>10</td>\n",
       "      <td>NaN</td>\n",
       "      <td>NaN</td>\n",
       "      <td>6</td>\n",
       "      <td>2.0</td>\n",
       "      <td>69.394611</td>\n",
       "      <td>0.445897</td>\n",
       "    </tr>\n",
       "    <tr>\n",
       "      <th>3</th>\n",
       "      <td>20200527</td>\n",
       "      <td>4</td>\n",
       "      <td>2</td>\n",
       "      <td>NaN</td>\n",
       "      <td>3</td>\n",
       "      <td>1992</td>\n",
       "      <td>2</td>\n",
       "      <td>4</td>\n",
       "      <td>6</td>\n",
       "      <td>4</td>\n",
       "      <td>...</td>\n",
       "      <td>1</td>\n",
       "      <td>8</td>\n",
       "      <td>3.0</td>\n",
       "      <td>10</td>\n",
       "      <td>NaN</td>\n",
       "      <td>NaN</td>\n",
       "      <td>6</td>\n",
       "      <td>2.0</td>\n",
       "      <td>69.394611</td>\n",
       "      <td>0.445897</td>\n",
       "    </tr>\n",
       "    <tr>\n",
       "      <th>4</th>\n",
       "      <td>20200527</td>\n",
       "      <td>5</td>\n",
       "      <td>2</td>\n",
       "      <td>NaN</td>\n",
       "      <td>3</td>\n",
       "      <td>1993</td>\n",
       "      <td>4</td>\n",
       "      <td>5</td>\n",
       "      <td>6</td>\n",
       "      <td>5</td>\n",
       "      <td>...</td>\n",
       "      <td>1</td>\n",
       "      <td>2</td>\n",
       "      <td>6.0</td>\n",
       "      <td>10</td>\n",
       "      <td>NaN</td>\n",
       "      <td>NaN</td>\n",
       "      <td>6</td>\n",
       "      <td>2.0</td>\n",
       "      <td>69.394611</td>\n",
       "      <td>0.445897</td>\n",
       "    </tr>\n",
       "    <tr>\n",
       "      <th>...</th>\n",
       "      <td>...</td>\n",
       "      <td>...</td>\n",
       "      <td>...</td>\n",
       "      <td>...</td>\n",
       "      <td>...</td>\n",
       "      <td>...</td>\n",
       "      <td>...</td>\n",
       "      <td>...</td>\n",
       "      <td>...</td>\n",
       "      <td>...</td>\n",
       "      <td>...</td>\n",
       "      <td>...</td>\n",
       "      <td>...</td>\n",
       "      <td>...</td>\n",
       "      <td>...</td>\n",
       "      <td>...</td>\n",
       "      <td>...</td>\n",
       "      <td>...</td>\n",
       "      <td>...</td>\n",
       "      <td>...</td>\n",
       "      <td>...</td>\n",
       "    </tr>\n",
       "    <tr>\n",
       "      <th>2495</th>\n",
       "      <td>20200527</td>\n",
       "      <td>2496</td>\n",
       "      <td>1</td>\n",
       "      <td>NaN</td>\n",
       "      <td>1</td>\n",
       "      <td>1979</td>\n",
       "      <td>2</td>\n",
       "      <td>3</td>\n",
       "      <td>4</td>\n",
       "      <td>4</td>\n",
       "      <td>...</td>\n",
       "      <td>2</td>\n",
       "      <td>1</td>\n",
       "      <td>4.0</td>\n",
       "      <td>5</td>\n",
       "      <td>1.0</td>\n",
       "      <td>4.0</td>\n",
       "      <td>4</td>\n",
       "      <td>1.0</td>\n",
       "      <td>80.174320</td>\n",
       "      <td>0.515162</td>\n",
       "    </tr>\n",
       "    <tr>\n",
       "      <th>2496</th>\n",
       "      <td>20200527</td>\n",
       "      <td>2497</td>\n",
       "      <td>1</td>\n",
       "      <td>NaN</td>\n",
       "      <td>1</td>\n",
       "      <td>1981</td>\n",
       "      <td>4</td>\n",
       "      <td>3</td>\n",
       "      <td>4</td>\n",
       "      <td>4</td>\n",
       "      <td>...</td>\n",
       "      <td>3</td>\n",
       "      <td>2</td>\n",
       "      <td>3.0</td>\n",
       "      <td>5</td>\n",
       "      <td>1.0</td>\n",
       "      <td>4.0</td>\n",
       "      <td>4</td>\n",
       "      <td>1.0</td>\n",
       "      <td>70.172754</td>\n",
       "      <td>0.450897</td>\n",
       "    </tr>\n",
       "    <tr>\n",
       "      <th>2497</th>\n",
       "      <td>20200527</td>\n",
       "      <td>2498</td>\n",
       "      <td>1</td>\n",
       "      <td>NaN</td>\n",
       "      <td>1</td>\n",
       "      <td>1978</td>\n",
       "      <td>2</td>\n",
       "      <td>4</td>\n",
       "      <td>1</td>\n",
       "      <td>3</td>\n",
       "      <td>...</td>\n",
       "      <td>2</td>\n",
       "      <td>1</td>\n",
       "      <td>4.0</td>\n",
       "      <td>8</td>\n",
       "      <td>1.0</td>\n",
       "      <td>6.0</td>\n",
       "      <td>4</td>\n",
       "      <td>1.0</td>\n",
       "      <td>80.174320</td>\n",
       "      <td>0.515162</td>\n",
       "    </tr>\n",
       "    <tr>\n",
       "      <th>2498</th>\n",
       "      <td>20200527</td>\n",
       "      <td>2499</td>\n",
       "      <td>1</td>\n",
       "      <td>NaN</td>\n",
       "      <td>1</td>\n",
       "      <td>1969</td>\n",
       "      <td>1</td>\n",
       "      <td>4</td>\n",
       "      <td>3</td>\n",
       "      <td>4</td>\n",
       "      <td>...</td>\n",
       "      <td>2</td>\n",
       "      <td>1</td>\n",
       "      <td>5.0</td>\n",
       "      <td>4</td>\n",
       "      <td>1.0</td>\n",
       "      <td>4.0</td>\n",
       "      <td>3</td>\n",
       "      <td>1.0</td>\n",
       "      <td>2094.469875</td>\n",
       "      <td>13.458078</td>\n",
       "    </tr>\n",
       "    <tr>\n",
       "      <th>2499</th>\n",
       "      <td>20200527</td>\n",
       "      <td>2500</td>\n",
       "      <td>8</td>\n",
       "      <td>152.0</td>\n",
       "      <td>5</td>\n",
       "      <td>1966</td>\n",
       "      <td>1</td>\n",
       "      <td>4</td>\n",
       "      <td>3</td>\n",
       "      <td>4</td>\n",
       "      <td>...</td>\n",
       "      <td>3</td>\n",
       "      <td>2</td>\n",
       "      <td>3.0</td>\n",
       "      <td>7</td>\n",
       "      <td>1.0</td>\n",
       "      <td>4.0</td>\n",
       "      <td>4</td>\n",
       "      <td>1.0</td>\n",
       "      <td>980.141001</td>\n",
       "      <td>6.297925</td>\n",
       "    </tr>\n",
       "  </tbody>\n",
       "</table>\n",
       "<p>2500 rows × 92 columns</p>\n",
       "</div>"
      ],
      "text/plain": [
       "          date    id  sq1  sq1_1  sq2   sq3  sq4_1  sq4_2  sq5  sq6  ...  q19  \\\n",
       "0     20200527     1    1    NaN    3  1998      2      0    4    4  ...    1   \n",
       "1     20200527     2    2    NaN    3  1998      2      4    4    3  ...    1   \n",
       "2     20200527     3    2    NaN    3  1991      3      7    4    3  ...    3   \n",
       "3     20200527     4    2    NaN    3  1992      2      4    6    4  ...    1   \n",
       "4     20200527     5    2    NaN    3  1993      4      5    6    5  ...    1   \n",
       "...        ...   ...  ...    ...  ...   ...    ...    ...  ...  ...  ...  ...   \n",
       "2495  20200527  2496    1    NaN    1  1979      2      3    4    4  ...    2   \n",
       "2496  20200527  2497    1    NaN    1  1981      4      3    4    4  ...    3   \n",
       "2497  20200527  2498    1    NaN    1  1978      2      4    1    3  ...    2   \n",
       "2498  20200527  2499    1    NaN    1  1969      1      4    3    4  ...    2   \n",
       "2499  20200527  2500    8  152.0    5  1966      1      4    3    4  ...    3   \n",
       "\n",
       "      q20_1  q20_2  q21  q22  q23  q24_1  q24_2          RWT       RWT1  \n",
       "0         2    3.0   10  NaN  NaN      6    2.0    59.447999   0.381985  \n",
       "1         3    2.0   10  NaN  NaN      6    2.0    69.394611   0.445897  \n",
       "2         2    3.0   10  NaN  NaN      6    2.0    69.394611   0.445897  \n",
       "3         8    3.0   10  NaN  NaN      6    2.0    69.394611   0.445897  \n",
       "4         2    6.0   10  NaN  NaN      6    2.0    69.394611   0.445897  \n",
       "...     ...    ...  ...  ...  ...    ...    ...          ...        ...  \n",
       "2495      1    4.0    5  1.0  4.0      4    1.0    80.174320   0.515162  \n",
       "2496      2    3.0    5  1.0  4.0      4    1.0    70.172754   0.450897  \n",
       "2497      1    4.0    8  1.0  6.0      4    1.0    80.174320   0.515162  \n",
       "2498      1    5.0    4  1.0  4.0      3    1.0  2094.469875  13.458078  \n",
       "2499      2    3.0    7  1.0  4.0      4    1.0   980.141001   6.297925  \n",
       "\n",
       "[2500 rows x 92 columns]"
      ]
     },
     "execution_count": 18,
     "metadata": {},
     "output_type": "execute_result"
    }
   ],
   "source": [
    "data"
   ]
  },
  {
   "cell_type": "code",
   "execution_count": 19,
   "metadata": {},
   "outputs": [],
   "source": [
    "data = data[data[\"sq1\"].apply(lambda x: True if x in [1,2,3,4,5,7,8] else False) | data[\"sq1_1\"].apply(lambda x: True if x == 152 else False)]"
   ]
  },
  {
   "cell_type": "code",
   "execution_count": 20,
   "metadata": {},
   "outputs": [
    {
     "name": "stderr",
     "output_type": "stream",
     "text": [
      "C:\\Users\\Youngju Hong\\anaconda3\\lib\\site-packages\\ipykernel_launcher.py:2: SettingWithCopyWarning: \n",
      "A value is trying to be set on a copy of a slice from a DataFrame.\n",
      "Try using .loc[row_indexer,col_indexer] = value instead\n",
      "\n",
      "See the caveats in the documentation: https://pandas.pydata.org/pandas-docs/stable/user_guide/indexing.html#returning-a-view-versus-a-copy\n",
      "  \n"
     ]
    }
   ],
   "source": [
    "nation = {1: \"조선족\", 2: \"중국인\", 3: \"일본\", 4: \"타이완\", 5:\"베트남\", 7:\"미국\", 8:\"캐나다\"}\n",
    "data[\"sq1\"] = data[\"sq1\"].apply(lambda x: nation[x])"
   ]
  },
  {
   "cell_type": "code",
   "execution_count": 21,
   "metadata": {},
   "outputs": [
    {
     "name": "stderr",
     "output_type": "stream",
     "text": [
      "C:\\Users\\Youngju Hong\\anaconda3\\lib\\site-packages\\ipykernel_launcher.py:1: SettingWithCopyWarning: \n",
      "A value is trying to be set on a copy of a slice from a DataFrame.\n",
      "Try using .loc[row_indexer,col_indexer] = value instead\n",
      "\n",
      "See the caveats in the documentation: https://pandas.pydata.org/pandas-docs/stable/user_guide/indexing.html#returning-a-view-versus-a-copy\n",
      "  \"\"\"Entry point for launching an IPython kernel.\n"
     ]
    }
   ],
   "source": [
    "data[\"sq1\"] = data[\"sq1\"].astype(\"category\")"
   ]
  },
  {
   "cell_type": "code",
   "execution_count": 22,
   "metadata": {},
   "outputs": [
    {
     "data": {
      "text/plain": [
       "[조선족, 중국인, 미국, 타이완, 일본, 베트남, 캐나다]\n",
       "Categories (7, object): [조선족, 중국인, 미국, 타이완, 일본, 베트남, 캐나다]"
      ]
     },
     "execution_count": 22,
     "metadata": {},
     "output_type": "execute_result"
    }
   ],
   "source": [
    "data[\"sq1\"].unique()"
   ]
  },
  {
   "cell_type": "code",
   "execution_count": 8,
   "metadata": {},
   "outputs": [
    {
     "name": "stderr",
     "output_type": "stream",
     "text": [
      "C:\\Users\\Youngju Hong\\anaconda3\\lib\\site-packages\\ipykernel_launcher.py:1: SettingWithCopyWarning: \n",
      "A value is trying to be set on a copy of a slice from a DataFrame.\n",
      "Try using .loc[row_indexer,col_indexer] = value instead\n",
      "\n",
      "See the caveats in the documentation: https://pandas.pydata.org/pandas-docs/stable/user_guide/indexing.html#returning-a-view-versus-a-copy\n",
      "  \"\"\"Entry point for launching an IPython kernel.\n"
     ]
    }
   ],
   "source": [
    "data[\"hospital_neg\"] = data[\"q5_10\"].apply(lambda x: \"Hard\" if x>3 else \"Okay\")"
   ]
  },
  {
   "cell_type": "code",
   "execution_count": 9,
   "metadata": {},
   "outputs": [
    {
     "data": {
      "text/plain": [
       "0       Hard\n",
       "1       Hard\n",
       "2       Hard\n",
       "3       Hard\n",
       "4       Okay\n",
       "        ... \n",
       "2495    Okay\n",
       "2496    Okay\n",
       "2497    Hard\n",
       "2498    Hard\n",
       "2499    Okay\n",
       "Name: hospital_neg, Length: 2136, dtype: object"
      ]
     },
     "execution_count": 9,
     "metadata": {},
     "output_type": "execute_result"
    }
   ],
   "source": [
    "data[\"hospital_neg\"]"
   ]
  },
  {
   "cell_type": "code",
   "execution_count": 118,
   "metadata": {},
   "outputs": [],
   "source": [
    "hospital_grouped = data.groupby([\"sq1\", \"hospital_neg\"]).count().reset_index().iloc[:,:3]"
   ]
  },
  {
   "cell_type": "code",
   "execution_count": 121,
   "metadata": {},
   "outputs": [],
   "source": [
    "hospital_grouped.to_excel(\"result.xlsx\")"
   ]
  },
  {
   "cell_type": "code",
   "execution_count": 122,
   "metadata": {},
   "outputs": [
    {
     "data": {
      "text/plain": [
       "<matplotlib.axes._subplots.AxesSubplot at 0x237943c3708>"
      ]
     },
     "execution_count": 122,
     "metadata": {},
     "output_type": "execute_result"
    },
    {
     "data": {
      "image/png": "[encoded data removed]",
      "text/plain": [
       "<Figure size 432x288 with 1 Axes>"
      ]
     },
     "metadata": {
      "needs_background": "light"
     },
     "output_type": "display_data"
    }
   ],
   "source": [
    "hospital_grouped.plot(kind = \"bar\")"
   ]
  },
  {
   "cell_type": "code",
   "execution_count": 10,
   "metadata": {},
   "outputs": [
    {
     "ename": "KeyError",
     "evalue": "'1.국적'",
     "output_type": "error",
     "traceback": [
      "\u001b[1;31m---------------------------------------------------------------------------\u001b[0m",
      "\u001b[1;31mKeyError\u001b[0m                                  Traceback (most recent call last)",
      "\u001b[1;32m<ipython-input-10-227a39a7d0fc>\u001b[0m in \u001b[0;36m<module>\u001b[1;34m\u001b[0m\n\u001b[1;32m----> 1\u001b[1;33m \u001b[0mq23\u001b[0m \u001b[1;33m=\u001b[0m \u001b[0mdata\u001b[0m\u001b[1;33m.\u001b[0m\u001b[0mgroupby\u001b[0m\u001b[1;33m(\u001b[0m\u001b[1;33m[\u001b[0m\u001b[1;34m\"1.국적\"\u001b[0m\u001b[1;33m,\u001b[0m \u001b[1;34m\"문23. 월평균 근로소득\"\u001b[0m\u001b[1;33m]\u001b[0m\u001b[1;33m)\u001b[0m\u001b[1;33m.\u001b[0m\u001b[0mcount\u001b[0m\u001b[1;33m(\u001b[0m\u001b[1;33m)\u001b[0m\u001b[1;33m.\u001b[0m\u001b[0mreset_index\u001b[0m\u001b[1;33m(\u001b[0m\u001b[1;33m)\u001b[0m\u001b[1;33m\u001b[0m\u001b[1;33m\u001b[0m\u001b[0m\n\u001b[0m",
      "\u001b[1;32m~\\anaconda3\\lib\\site-packages\\pandas\\core\\frame.py\u001b[0m in \u001b[0;36mgroupby\u001b[1;34m(self, by, axis, level, as_index, sort, group_keys, squeeze, observed)\u001b[0m\n\u001b[0;32m   5808\u001b[0m             \u001b[0mgroup_keys\u001b[0m\u001b[1;33m=\u001b[0m\u001b[0mgroup_keys\u001b[0m\u001b[1;33m,\u001b[0m\u001b[1;33m\u001b[0m\u001b[1;33m\u001b[0m\u001b[0m\n\u001b[0;32m   5809\u001b[0m             \u001b[0msqueeze\u001b[0m\u001b[1;33m=\u001b[0m\u001b[0msqueeze\u001b[0m\u001b[1;33m,\u001b[0m\u001b[1;33m\u001b[0m\u001b[1;33m\u001b[0m\u001b[0m\n\u001b[1;32m-> 5810\u001b[1;33m             \u001b[0mobserved\u001b[0m\u001b[1;33m=\u001b[0m\u001b[0mobserved\u001b[0m\u001b[1;33m,\u001b[0m\u001b[1;33m\u001b[0m\u001b[1;33m\u001b[0m\u001b[0m\n\u001b[0m\u001b[0;32m   5811\u001b[0m         )\n\u001b[0;32m   5812\u001b[0m \u001b[1;33m\u001b[0m\u001b[0m\n",
      "\u001b[1;32m~\\anaconda3\\lib\\site-packages\\pandas\\core\\groupby\\groupby.py\u001b[0m in \u001b[0;36m__init__\u001b[1;34m(self, obj, keys, axis, level, grouper, exclusions, selection, as_index, sort, group_keys, squeeze, observed, mutated)\u001b[0m\n\u001b[0;32m    407\u001b[0m                 \u001b[0msort\u001b[0m\u001b[1;33m=\u001b[0m\u001b[0msort\u001b[0m\u001b[1;33m,\u001b[0m\u001b[1;33m\u001b[0m\u001b[1;33m\u001b[0m\u001b[0m\n\u001b[0;32m    408\u001b[0m                 \u001b[0mobserved\u001b[0m\u001b[1;33m=\u001b[0m\u001b[0mobserved\u001b[0m\u001b[1;33m,\u001b[0m\u001b[1;33m\u001b[0m\u001b[1;33m\u001b[0m\u001b[0m\n\u001b[1;32m--> 409\u001b[1;33m                 \u001b[0mmutated\u001b[0m\u001b[1;33m=\u001b[0m\u001b[0mself\u001b[0m\u001b[1;33m.\u001b[0m\u001b[0mmutated\u001b[0m\u001b[1;33m,\u001b[0m\u001b[1;33m\u001b[0m\u001b[1;33m\u001b[0m\u001b[0m\n\u001b[0m\u001b[0;32m    410\u001b[0m             )\n\u001b[0;32m    411\u001b[0m \u001b[1;33m\u001b[0m\u001b[0m\n",
      "\u001b[1;32m~\\anaconda3\\lib\\site-packages\\pandas\\core\\groupby\\grouper.py\u001b[0m in \u001b[0;36mget_grouper\u001b[1;34m(obj, key, axis, level, sort, observed, mutated, validate)\u001b[0m\n\u001b[0;32m    596\u001b[0m                 \u001b[0min_axis\u001b[0m\u001b[1;33m,\u001b[0m \u001b[0mname\u001b[0m\u001b[1;33m,\u001b[0m \u001b[0mlevel\u001b[0m\u001b[1;33m,\u001b[0m \u001b[0mgpr\u001b[0m \u001b[1;33m=\u001b[0m \u001b[1;32mFalse\u001b[0m\u001b[1;33m,\u001b[0m \u001b[1;32mNone\u001b[0m\u001b[1;33m,\u001b[0m \u001b[0mgpr\u001b[0m\u001b[1;33m,\u001b[0m \u001b[1;32mNone\u001b[0m\u001b[1;33m\u001b[0m\u001b[1;33m\u001b[0m\u001b[0m\n\u001b[0;32m    597\u001b[0m             \u001b[1;32melse\u001b[0m\u001b[1;33m:\u001b[0m\u001b[1;33m\u001b[0m\u001b[1;33m\u001b[0m\u001b[0m\n\u001b[1;32m--> 598\u001b[1;33m                 \u001b[1;32mraise\u001b[0m \u001b[0mKeyError\u001b[0m\u001b[1;33m(\u001b[0m\u001b[0mgpr\u001b[0m\u001b[1;33m)\u001b[0m\u001b[1;33m\u001b[0m\u001b[1;33m\u001b[0m\u001b[0m\n\u001b[0m\u001b[0;32m    599\u001b[0m         \u001b[1;32melif\u001b[0m \u001b[0misinstance\u001b[0m\u001b[1;33m(\u001b[0m\u001b[0mgpr\u001b[0m\u001b[1;33m,\u001b[0m \u001b[0mGrouper\u001b[0m\u001b[1;33m)\u001b[0m \u001b[1;32mand\u001b[0m \u001b[0mgpr\u001b[0m\u001b[1;33m.\u001b[0m\u001b[0mkey\u001b[0m \u001b[1;32mis\u001b[0m \u001b[1;32mnot\u001b[0m \u001b[1;32mNone\u001b[0m\u001b[1;33m:\u001b[0m\u001b[1;33m\u001b[0m\u001b[1;33m\u001b[0m\u001b[0m\n\u001b[0;32m    600\u001b[0m             \u001b[1;31m# Add key to exclusions\u001b[0m\u001b[1;33m\u001b[0m\u001b[1;33m\u001b[0m\u001b[1;33m\u001b[0m\u001b[0m\n",
      "\u001b[1;31mKeyError\u001b[0m: '1.국적'"
     ]
    }
   ],
   "source": [
    "q23 = data.groupby([\"1.국적\", \"문23. 월평균 근로소득\"]).count().reset_index()"
   ]
  },
  {
   "cell_type": "code",
   "execution_count": 23,
   "metadata": {},
   "outputs": [
    {
     "name": "stderr",
     "output_type": "stream",
     "text": [
      "C:\\Users\\Youngju Hong\\anaconda3\\lib\\site-packages\\ipykernel_launcher.py:1: SettingWithCopyWarning: \n",
      "A value is trying to be set on a copy of a slice from a DataFrame.\n",
      "Try using .loc[row_indexer,col_indexer] = value instead\n",
      "\n",
      "See the caveats in the documentation: https://pandas.pydata.org/pandas-docs/stable/user_guide/indexing.html#returning-a-view-versus-a-copy\n",
      "  \"\"\"Entry point for launching an IPython kernel.\n"
     ]
    }
   ],
   "source": [
    "data[\"nation\"] = data[\"sq1\"].apply(lambda x: \"중국인\" if x == \"조선족\" else x)"
   ]
  },
  {
   "cell_type": "code",
   "execution_count": 12,
   "metadata": {},
   "outputs": [
    {
     "name": "stdout",
     "output_type": "stream",
     "text": [
      "중국인 4.0     519\n",
      "5.0     370\n",
      "6.0     145\n",
      "3.0     114\n",
      "7.0      82\n",
      "9.0      22\n",
      "2.0      13\n",
      "8.0       9\n",
      "11.0      7\n",
      "10.0      6\n",
      "1.0       2\n",
      "13.0      2\n",
      "16.0      1\n",
      "15.0      1\n",
      "12.0      1\n",
      "Name: q23, dtype: int64\n",
      "미국 5.0     27\n",
      "6.0     15\n",
      "7.0     14\n",
      "14.0    11\n",
      "15.0     9\n",
      "12.0     8\n",
      "13.0     7\n",
      "11.0     5\n",
      "16.0     4\n",
      "4.0      4\n",
      "8.0      3\n",
      "18.0     2\n",
      "17.0     2\n",
      "10.0     2\n",
      "2.0      1\n",
      "Name: q23, dtype: int64\n",
      "타이완 7.0     13\n",
      "4.0     12\n",
      "5.0     12\n",
      "6.0      8\n",
      "9.0      1\n",
      "10.0     1\n",
      "8.0      1\n",
      "Name: q23, dtype: int64\n",
      "일본 5.0     9\n",
      "4.0     9\n",
      "6.0     5\n",
      "7.0     4\n",
      "11.0    3\n",
      "3.0     3\n",
      "2.0     1\n",
      "9.0     1\n",
      "12.0    1\n",
      "10.0    1\n",
      "8.0     1\n",
      "Name: q23, dtype: int64\n",
      "베트남 5.0     27\n",
      "6.0     17\n",
      "4.0      7\n",
      "10.0     5\n",
      "9.0      1\n",
      "8.0      1\n",
      "7.0      1\n",
      "3.0      1\n",
      "2.0      1\n",
      "Name: q23, dtype: int64\n",
      "캐나다 5.0     9\n",
      "9.0     8\n",
      "8.0     7\n",
      "6.0     4\n",
      "10.0    4\n",
      "4.0     3\n",
      "13.0    3\n",
      "11.0    3\n",
      "7.0     3\n",
      "12.0    2\n",
      "15.0    2\n",
      "16.0    2\n",
      "17.0    2\n",
      "14.0    1\n",
      "Name: q23, dtype: int64\n"
     ]
    }
   ],
   "source": [
    "for i in [\"중국인\", \"미국\", \"타이완\", \"일본\", \"베트남\", \"캐나다\"]:\n",
    "    print(i, data[data[\"nation\"] == i].loc[:, \"q23\"].value_counts())#plot(kind = \"bar\"))"
   ]
  },
  {
   "cell_type": "code",
   "execution_count": 145,
   "metadata": {},
   "outputs": [
    {
     "data": {
      "image/png": "[encoded data removed]",
      "text/plain": [
       "<Figure size 432x288 with 1 Axes>"
      ]
     },
     "metadata": {
      "needs_background": "light"
     },
     "output_type": "display_data"
    },
    {
     "name": "stdout",
     "output_type": "stream",
     "text": [
      "중국인 4     509\n",
      "5     274\n",
      "10    200\n",
      "7     139\n",
      "3     108\n",
      "11    100\n",
      "6      76\n",
      "12     65\n",
      "8      64\n",
      "2      57\n",
      "9      53\n",
      "1      14\n",
      "Name: q21, dtype: int64\n",
      "중국인sum:  1659\n"
     ]
    },
    {
     "data": {
      "image/png": "[encoded data removed]",
      "text/plain": [
       "<Figure size 432x288 with 1 Axes>"
      ]
     },
     "metadata": {
      "needs_background": "light"
     },
     "output_type": "display_data"
    },
    {
     "name": "stdout",
     "output_type": "stream",
     "text": [
      "미국 2     42\n",
      "4     28\n",
      "3     23\n",
      "12    21\n",
      "5     10\n",
      "10     7\n",
      "11     6\n",
      "7      5\n",
      "9      4\n",
      "1      2\n",
      "Name: q21, dtype: int64\n",
      "미국sum:  148\n"
     ]
    },
    {
     "data": {
      "image/png": "[encoded data removed]",
      "text/plain": [
       "<Figure size 432x288 with 1 Axes>"
      ]
     },
     "metadata": {
      "needs_background": "light"
     },
     "output_type": "display_data"
    },
    {
     "name": "stdout",
     "output_type": "stream",
     "text": [
      "타이완 4     13\n",
      "5     10\n",
      "3      7\n",
      "8      6\n",
      "12     5\n",
      "10     5\n",
      "7      4\n",
      "11     3\n",
      "9      3\n",
      "2      3\n",
      "6      1\n",
      "1      1\n",
      "Name: q21, dtype: int64\n",
      "타이완sum:  61\n"
     ]
    },
    {
     "data": {
      "image/png": "[encoded data removed]",
      "text/plain": [
       "<Figure size 432x288 with 1 Axes>"
      ]
     },
     "metadata": {
      "needs_background": "light"
     },
     "output_type": "display_data"
    },
    {
     "name": "stdout",
     "output_type": "stream",
     "text": [
      "일본 11    18\n",
      "4     12\n",
      "3     11\n",
      "10    10\n",
      "5      8\n",
      "2      3\n",
      "1      3\n",
      "9      1\n",
      "Name: q21, dtype: int64\n",
      "일본sum:  66\n"
     ]
    },
    {
     "data": {
      "image/png": "[encoded data removed]",
      "text/plain": [
       "<Figure size 432x288 with 1 Axes>"
      ]
     },
     "metadata": {
      "needs_background": "light"
     },
     "output_type": "display_data"
    },
    {
     "name": "stdout",
     "output_type": "stream",
     "text": [
      "베트남 10    42\n",
      "4     25\n",
      "9     15\n",
      "11    10\n",
      "7      7\n",
      "12     6\n",
      "8      5\n",
      "3      4\n",
      "5      3\n",
      "2      2\n",
      "Name: q21, dtype: int64\n",
      "베트남sum:  119\n"
     ]
    },
    {
     "data": {
      "image/png": "[encoded data removed]",
      "text/plain": [
       "<Figure size 432x288 with 1 Axes>"
      ]
     },
     "metadata": {
      "needs_background": "light"
     },
     "output_type": "display_data"
    },
    {
     "name": "stdout",
     "output_type": "stream",
     "text": [
      "캐나다 2     30\n",
      "12    22\n",
      "3      6\n",
      "10     5\n",
      "7      5\n",
      "4      4\n",
      "1      4\n",
      "11     3\n",
      "5      3\n",
      "8      1\n",
      "Name: q21, dtype: int64\n",
      "캐나다sum:  83\n"
     ]
    }
   ],
   "source": [
    "for i in [\"중국인\", \"미국\", \"타이완\", \"일본\", \"베트남\", \"캐나다\"]:\n",
    "    fig, ax = plt.subplots()\n",
    "    data[data[\"nation\"] == i].loc[:, \"q21\"].value_counts().plot(kind = \"bar\")\n",
    "    plt.show()\n",
    "    print(i, data[data[\"nation\"] == i].loc[:, \"q21\"].value_counts())#plot(kind = \"bar\"))\n",
    "    print(i+\"sum: \", data[data[\"nation\"] == i].loc[:, \"q21\"].value_counts().sum())"
   ]
  },
  {
   "cell_type": "code",
   "execution_count": 149,
   "metadata": {},
   "outputs": [
    {
     "data": {
      "image/png": "[encoded data removed]",
      "text/plain": [
       "<Figure size 432x288 with 1 Axes>"
      ]
     },
     "metadata": {
      "needs_background": "light"
     },
     "output_type": "display_data"
    },
    {
     "name": "stdout",
     "output_type": "stream",
     "text": [
      "조선족 4     443\n",
      "5     238\n",
      "7     117\n",
      "11     83\n",
      "3      72\n",
      "6      66\n",
      "12     55\n",
      "8      51\n",
      "9      33\n",
      "2      20\n",
      "10     15\n",
      "1       5\n",
      "Name: q21, dtype: int64\n",
      "조선족sum:  1198\n"
     ]
    },
    {
     "data": {
      "image/png": "[encoded data removed]",
      "text/plain": [
       "<Figure size 432x288 with 1 Axes>"
      ]
     },
     "metadata": {
      "needs_background": "light"
     },
     "output_type": "display_data"
    },
    {
     "name": "stdout",
     "output_type": "stream",
     "text": [
      "중국인 10    185\n",
      "4      66\n",
      "2      37\n",
      "5      36\n",
      "3      36\n",
      "7      22\n",
      "9      20\n",
      "11     17\n",
      "8      13\n",
      "12     10\n",
      "6      10\n",
      "1       9\n",
      "Name: q21, dtype: int64\n",
      "중국인sum:  461\n"
     ]
    },
    {
     "data": {
      "image/png": "[encoded data removed]",
      "text/plain": [
       "<Figure size 432x288 with 1 Axes>"
      ]
     },
     "metadata": {
      "needs_background": "light"
     },
     "output_type": "display_data"
    },
    {
     "name": "stdout",
     "output_type": "stream",
     "text": [
      "미국 2     42\n",
      "4     28\n",
      "3     23\n",
      "12    21\n",
      "5     10\n",
      "10     7\n",
      "11     6\n",
      "7      5\n",
      "9      4\n",
      "1      2\n",
      "Name: q21, dtype: int64\n",
      "미국sum:  148\n"
     ]
    },
    {
     "data": {
      "image/png": "[encoded data removed]",
      "text/plain": [
       "<Figure size 432x288 with 1 Axes>"
      ]
     },
     "metadata": {
      "needs_background": "light"
     },
     "output_type": "display_data"
    },
    {
     "name": "stdout",
     "output_type": "stream",
     "text": [
      "타이완 4     13\n",
      "5     10\n",
      "3      7\n",
      "8      6\n",
      "12     5\n",
      "10     5\n",
      "7      4\n",
      "11     3\n",
      "9      3\n",
      "2      3\n",
      "6      1\n",
      "1      1\n",
      "Name: q21, dtype: int64\n",
      "타이완sum:  61\n"
     ]
    },
    {
     "data": {
      "image/png": "[encoded data removed]",
      "text/plain": [
       "<Figure size 432x288 with 1 Axes>"
      ]
     },
     "metadata": {
      "needs_background": "light"
     },
     "output_type": "display_data"
    },
    {
     "name": "stdout",
     "output_type": "stream",
     "text": [
      "일본 11    18\n",
      "4     12\n",
      "3     11\n",
      "10    10\n",
      "5      8\n",
      "2      3\n",
      "1      3\n",
      "9      1\n",
      "Name: q21, dtype: int64\n",
      "일본sum:  66\n"
     ]
    },
    {
     "data": {
      "image/png": "[encoded data removed]",
      "text/plain": [
       "<Figure size 432x288 with 1 Axes>"
      ]
     },
     "metadata": {
      "needs_background": "light"
     },
     "output_type": "display_data"
    },
    {
     "name": "stdout",
     "output_type": "stream",
     "text": [
      "베트남 10    42\n",
      "4     25\n",
      "9     15\n",
      "11    10\n",
      "7      7\n",
      "12     6\n",
      "8      5\n",
      "3      4\n",
      "5      3\n",
      "2      2\n",
      "Name: q21, dtype: int64\n",
      "베트남sum:  119\n"
     ]
    },
    {
     "data": {
      "image/png": "[encoded data removed]",
      "text/plain": [
       "<Figure size 432x288 with 1 Axes>"
      ]
     },
     "metadata": {
      "needs_background": "light"
     },
     "output_type": "display_data"
    },
    {
     "name": "stdout",
     "output_type": "stream",
     "text": [
      "캐나다 2     30\n",
      "12    22\n",
      "3      6\n",
      "10     5\n",
      "7      5\n",
      "4      4\n",
      "1      4\n",
      "11     3\n",
      "5      3\n",
      "8      1\n",
      "Name: q21, dtype: int64\n",
      "캐나다sum:  83\n"
     ]
    }
   ],
   "source": [
    "for i in [\"조선족\", \"중국인\", \"미국\", \"타이완\", \"일본\", \"베트남\", \"캐나다\"]: #직업 분포 (조선족 포함)\n",
    "    fig, ax = plt.subplots()\n",
    "    data[data[\"sq1\"] == i].loc[:, \"q21\"].value_counts().plot(kind = \"bar\")\n",
    "    plt.show()\n",
    "    print(i, data[data[\"sq1\"] == i].loc[:, \"q21\"].value_counts())#plot(kind = \"bar\"))\n",
    "    print(i+\"sum: \", data[data[\"sq1\"] == i].loc[:, \"q21\"].value_counts().sum())"
   ]
  },
  {
   "cell_type": "code",
   "execution_count": 159,
   "metadata": {},
   "outputs": [
    {
     "data": {
      "image/png": "[encoded data removed]",
      "text/plain": [
       "<Figure size 432x288 with 1 Axes>"
      ]
     },
     "metadata": {
      "needs_background": "light"
     },
     "output_type": "display_data"
    },
    {
     "name": "stdout",
     "output_type": "stream",
     "text": [
      "조선족 4.0     476\n",
      "5.0     303\n",
      "6.0     108\n",
      "3.0      95\n",
      "7.0      34\n",
      "9.0      10\n",
      "2.0      10\n",
      "8.0       4\n",
      "11.0      2\n",
      "13.0      1\n",
      "16.0      1\n",
      "15.0      1\n",
      "Name: q23, dtype: int64\n",
      "조선족sum:  1045\n"
     ]
    },
    {
     "data": {
      "image/png": "[encoded data removed]",
      "text/plain": [
       "<Figure size 432x288 with 1 Axes>"
      ]
     },
     "metadata": {
      "needs_background": "light"
     },
     "output_type": "display_data"
    },
    {
     "name": "stdout",
     "output_type": "stream",
     "text": [
      "중국인 5.0     67\n",
      "7.0     48\n",
      "4.0     43\n",
      "6.0     37\n",
      "3.0     19\n",
      "9.0     12\n",
      "10.0     6\n",
      "11.0     5\n",
      "8.0      5\n",
      "2.0      3\n",
      "1.0      2\n",
      "13.0     1\n",
      "12.0     1\n",
      "Name: q23, dtype: int64\n",
      "중국인sum:  249\n"
     ]
    },
    {
     "data": {
      "image/png": "[encoded data removed]",
      "text/plain": [
       "<Figure size 432x288 with 1 Axes>"
      ]
     },
     "metadata": {
      "needs_background": "light"
     },
     "output_type": "display_data"
    },
    {
     "name": "stdout",
     "output_type": "stream",
     "text": [
      "미국 5.0     27\n",
      "6.0     15\n",
      "7.0     14\n",
      "14.0    11\n",
      "15.0     9\n",
      "12.0     8\n",
      "13.0     7\n",
      "11.0     5\n",
      "16.0     4\n",
      "4.0      4\n",
      "8.0      3\n",
      "18.0     2\n",
      "17.0     2\n",
      "10.0     2\n",
      "2.0      1\n",
      "Name: q23, dtype: int64\n",
      "미국sum:  114\n"
     ]
    },
    {
     "data": {
      "image/png": "[encoded data removed]",
      "text/plain": [
       "<Figure size 432x288 with 1 Axes>"
      ]
     },
     "metadata": {
      "needs_background": "light"
     },
     "output_type": "display_data"
    },
    {
     "name": "stdout",
     "output_type": "stream",
     "text": [
      "타이완 7.0     13\n",
      "4.0     12\n",
      "5.0     12\n",
      "6.0      8\n",
      "9.0      1\n",
      "10.0     1\n",
      "8.0      1\n",
      "Name: q23, dtype: int64\n",
      "타이완sum:  48\n"
     ]
    },
    {
     "data": {
      "image/png": "[encoded data removed]",
      "text/plain": [
       "<Figure size 432x288 with 1 Axes>"
      ]
     },
     "metadata": {
      "needs_background": "light"
     },
     "output_type": "display_data"
    },
    {
     "name": "stdout",
     "output_type": "stream",
     "text": [
      "일본 5.0     9\n",
      "4.0     9\n",
      "6.0     5\n",
      "7.0     4\n",
      "11.0    3\n",
      "3.0     3\n",
      "2.0     1\n",
      "9.0     1\n",
      "12.0    1\n",
      "10.0    1\n",
      "8.0     1\n",
      "Name: q23, dtype: int64\n",
      "일본sum:  38\n"
     ]
    },
    {
     "data": {
      "image/png": "[encoded data removed]",
      "text/plain": [
       "<Figure size 432x288 with 1 Axes>"
      ]
     },
     "metadata": {
      "needs_background": "light"
     },
     "output_type": "display_data"
    },
    {
     "name": "stdout",
     "output_type": "stream",
     "text": [
      "베트남 5.0     27\n",
      "6.0     17\n",
      "4.0      7\n",
      "10.0     5\n",
      "9.0      1\n",
      "8.0      1\n",
      "7.0      1\n",
      "3.0      1\n",
      "2.0      1\n",
      "Name: q23, dtype: int64\n",
      "베트남sum:  61\n"
     ]
    },
    {
     "data": {
      "image/png": "[encoded data removed]",
      "text/plain": [
       "<Figure size 432x288 with 1 Axes>"
      ]
     },
     "metadata": {
      "needs_background": "light"
     },
     "output_type": "display_data"
    },
    {
     "name": "stdout",
     "output_type": "stream",
     "text": [
      "캐나다 5.0     9\n",
      "9.0     8\n",
      "8.0     7\n",
      "6.0     4\n",
      "10.0    4\n",
      "4.0     3\n",
      "13.0    3\n",
      "11.0    3\n",
      "7.0     3\n",
      "12.0    2\n",
      "15.0    2\n",
      "16.0    2\n",
      "17.0    2\n",
      "14.0    1\n",
      "Name: q23, dtype: int64\n",
      "캐나다sum:  53\n"
     ]
    }
   ],
   "source": [
    "for i in [\"조선족\", \"중국인\", \"미국\", \"타이완\", \"일본\", \"베트남\", \"캐나다\"]: #직업 분포 (조선족 포함)\n",
    "    fig, ax = plt.subplots()\n",
    "    data[data[\"sq1\"] == i].loc[:, \"q23\"].value_counts().plot(kind = \"bar\")\n",
    "    plt.show()\n",
    "    print(i, data[data[\"sq1\"] == i].loc[:, \"q23\"].value_counts())#plot(kind = \"bar\"))\n",
    "    print(i+\"sum: \", data[data[\"sq1\"] == i].loc[:, \"q23\"].value_counts().sum())"
   ]
  },
  {
   "cell_type": "code",
   "execution_count": 157,
   "metadata": {},
   "outputs": [
    {
     "name": "stdout",
     "output_type": "stream",
     "text": [
      "중국인 5.694779116465863\n",
      "중국인sum:  461\n",
      "미국 9.210526315789474\n",
      "미국sum:  148\n",
      "타이완 5.708333333333333\n",
      "타이완sum:  61\n",
      "일본 5.842105263157895\n",
      "일본sum:  66\n",
      "베트남 5.639344262295082\n",
      "베트남sum:  119\n",
      "캐나다 8.981132075471699\n",
      "캐나다sum:  83\n"
     ]
    }
   ],
   "source": [
    "for i in [\"중국인\", \"미국\", \"타이완\", \"일본\", \"베트남\", \"캐나다\"]:\n",
    "    print(i, data[data[\"sq1\"] == i].loc[:, \"q23\"].mean())\n",
    "    print(i+\"sum: \", data[data[\"sq1\"] == i].loc[:, \"q21\"].value_counts().sum())"
   ]
  },
  {
   "cell_type": "code",
   "execution_count": 161,
   "metadata": {},
   "outputs": [
    {
     "name": "stdout",
     "output_type": "stream",
     "text": [
      "9.210526315789474\n",
      "5.041499330655957\n"
     ]
    }
   ],
   "source": [
    "print(data[data[\"sq1\"] == \"미국\"].loc[:, \"q23\"].mean())\n",
    "print(data[data[\"sq1\"] != \"미국\"].loc[:, \"q23\"].mean())"
   ]
  },
  {
   "cell_type": "code",
   "execution_count": 36,
   "metadata": {},
   "outputs": [
    {
     "name": "stdout",
     "output_type": "stream",
     "text": [
      "----- 조선족 -----\n",
      "Question 1\n",
      "0.2262103505843072\n",
      "Question 2\n",
      "0.4073455759599332\n",
      "Question 3\n",
      "0.2629382303839733\n",
      "Question 4\n",
      "0.2846410684474123\n",
      "Question 5\n",
      "0.31636060100166946\n",
      "Question 6\n",
      "0.35308848080133554\n",
      "Question 7\n",
      "0.3397328881469115\n",
      "Question 8\n",
      "0.4048414023372287\n",
      "Question 9\n",
      "0.3547579298831386\n",
      "Question 10\n",
      "0.34474123539232054\n",
      "----- 중국인 -----\n",
      "Question 1\n",
      "0.4685466377440347\n",
      "Question 2\n",
      "0.7136659436008677\n",
      "Question 3\n",
      "0.3080260303687636\n",
      "Question 4\n",
      "0.4598698481561822\n",
      "Question 5\n",
      "0.45770065075921906\n",
      "Question 6\n",
      "0.48156182212581344\n",
      "Question 7\n",
      "0.44685466377440347\n",
      "Question 8\n",
      "0.5075921908893709\n",
      "Question 9\n",
      "0.4121475054229935\n",
      "Question 10\n",
      "0.44685466377440347\n",
      "----- 타이완 -----\n",
      "Question 1\n",
      "0.4918032786885246\n",
      "Question 2\n",
      "0.819672131147541\n",
      "Question 3\n",
      "0.36065573770491804\n",
      "Question 4\n",
      "0.22950819672131148\n",
      "Question 5\n",
      "0.4426229508196721\n",
      "Question 6\n",
      "0.4098360655737705\n",
      "Question 7\n",
      "0.4098360655737705\n",
      "Question 8\n",
      "0.4426229508196721\n",
      "Question 9\n",
      "0.4918032786885246\n",
      "Question 10\n",
      "0.47540983606557374\n",
      "----- 베트남 -----\n",
      "Question 1\n",
      "0.36134453781512604\n",
      "Question 2\n",
      "0.7899159663865546\n",
      "Question 3\n",
      "0.3865546218487395\n",
      "Question 4\n",
      "0.2184873949579832\n",
      "Question 5\n",
      "0.5042016806722689\n",
      "Question 6\n",
      "0.5126050420168067\n",
      "Question 7\n",
      "0.40336134453781514\n",
      "Question 8\n",
      "0.46218487394957986\n",
      "Question 9\n",
      "0.37815126050420167\n",
      "Question 10\n",
      "0.35294117647058826\n",
      "----- 일본 -----\n",
      "Question 1\n",
      "0.10606060606060606\n",
      "Question 2\n",
      "0.5757575757575758\n",
      "Question 3\n",
      "0.07575757575757576\n",
      "Question 4\n",
      "0.15151515151515152\n",
      "Question 5\n",
      "0.13636363636363635\n",
      "Question 6\n",
      "0.15151515151515152\n",
      "Question 7\n",
      "0.18181818181818182\n",
      "Question 8\n",
      "0.19696969696969696\n",
      "Question 9\n",
      "0.19696969696969696\n",
      "Question 10\n",
      "0.22727272727272727\n",
      "----- 미국 -----\n",
      "Question 1\n",
      "0.35135135135135137\n",
      "Question 2\n",
      "0.42567567567567566\n",
      "Question 3\n",
      "0.21621621621621623\n",
      "Question 4\n",
      "0.25\n",
      "Question 5\n",
      "0.11486486486486487\n",
      "Question 6\n",
      "0.18243243243243243\n",
      "Question 7\n",
      "0.20945945945945946\n",
      "Question 8\n",
      "0.20945945945945946\n",
      "Question 9\n",
      "0.25\n",
      "Question 10\n",
      "0.23648648648648649\n",
      "----- 캐나다 -----\n",
      "Question 1\n",
      "0.30120481927710846\n",
      "Question 2\n",
      "0.5542168674698795\n",
      "Question 3\n",
      "0.20481927710843373\n",
      "Question 4\n",
      "0.12048192771084337\n",
      "Question 5\n",
      "0.13253012048192772\n",
      "Question 6\n",
      "0.27710843373493976\n",
      "Question 7\n",
      "0.25301204819277107\n",
      "Question 8\n",
      "0.20481927710843373\n",
      "Question 9\n",
      "0.1566265060240964\n",
      "Question 10\n",
      "0.20481927710843373\n"
     ]
    }
   ],
   "source": [
    "for i in (\"조선족\", \"중국인\", \"타이완\", \"베트남\", \"일본\", \"미국\", \"캐나다\"):\n",
    "    print(\"-\"*5, i, \"-\"*5)\n",
    "    for j in range(1,11):\n",
    "        print(f\"Question {j}\")\n",
    "        temp = data[data[\"sq1\"] == i].loc[:,f\"q5_{j}\"]#.value_counts())\n",
    "        \n",
    "        print(len(temp[temp.apply(lambda x: True if x > 3 else False)]) / len(temp))"
   ]
  },
  {
   "cell_type": "code",
   "execution_count": 46,
   "metadata": {},
   "outputs": [
    {
     "name": "stdout",
     "output_type": "stream",
     "text": [
      "----- 조선족 -----\n",
      "0.34474123539232054\n",
      "----- 중국인 -----\n",
      "0.44685466377440347\n",
      "----- 타이완 -----\n",
      "0.47540983606557374\n",
      "----- 베트남 -----\n",
      "0.35294117647058826\n",
      "----- 일본 -----\n",
      "0.22727272727272727\n",
      "----- 미국 -----\n",
      "0.23648648648648649\n",
      "----- 캐나다 -----\n",
      "0.20481927710843373\n"
     ]
    }
   ],
   "source": [
    "#의료 문제\n",
    "for i in (\"조선족\", \"중국인\", \"타이완\", \"베트남\", \"일본\", \"미국\", \"캐나다\"):\n",
    "    print(\"-\"*5, i, \"-\"*5)\n",
    "    temp = data[data[\"sq1\"] == i].loc[:,f\"q5_10\"]#.value_counts())\n",
    "    print(len(temp[temp.apply(lambda x: True if x > 3 else False)]) / len(temp))"
   ]
  },
  {
   "cell_type": "code",
   "execution_count": 62,
   "metadata": {},
   "outputs": [
    {
     "name": "stdout",
     "output_type": "stream",
     "text": [
      "0.21311475409836064\n"
     ]
    }
   ],
   "source": [
    "#의료문제 (중화권)\n",
    "temp = data[data[\"sq1\"].apply(lambda x: True if x in (\"타이완\", \"중국\") else False)].loc[:,\"q5_10\"]#.value_counts())        \n",
    "print(len(temp[temp.apply(lambda x: True if x < 3 else False)]) / len(temp))"
   ]
  },
  {
   "cell_type": "code",
   "execution_count": 65,
   "metadata": {},
   "outputs": [
    {
     "name": "stdout",
     "output_type": "stream",
     "text": [
      "0.4918032786885246\n"
     ]
    }
   ],
   "source": [
    "#언어문제 (중화권)\n",
    "temp = data[data[\"sq1\"].apply(lambda x: True if x in (\"타이완\", \"중국\") else False)].loc[:,\"q5_1\"]#.value_counts())        \n",
    "print(len(temp[temp.apply(lambda x: True if x > 3 else False)]) / len(temp))"
   ]
  },
  {
   "cell_type": "code",
   "execution_count": 67,
   "metadata": {},
   "outputs": [
    {
     "name": "stdout",
     "output_type": "stream",
     "text": [
      "0.35917901938426455\n"
     ]
    }
   ],
   "source": [
    "#의료문제 (비중화권)\n",
    "temp = data[data[\"sq1\"].apply(lambda x: True if x not in (\"타이완\", \"중국\", \"조선족\") else False)].loc[:,\"q5_10\"]#.value_counts())        \n",
    "print(len(temp[temp.apply(lambda x: True if x > 3 else False)]) / len(temp))"
   ]
  },
  {
   "cell_type": "code",
   "execution_count": 68,
   "metadata": {},
   "outputs": [
    {
     "name": "stdout",
     "output_type": "stream",
     "text": [
      "0.39110604332953247\n"
     ]
    }
   ],
   "source": [
    "#언어문제 (비중화권)\n",
    "temp = data[data[\"sq1\"].apply(lambda x: True if x not in (\"타이완\", \"중국\", \"조선족\") else False)].loc[:,\"q5_1\"]#.value_counts())        \n",
    "print(len(temp[temp.apply(lambda x: True if x > 3 else False)]) / len(temp))"
   ]
  },
  {
   "cell_type": "code",
   "execution_count": 38,
   "metadata": {},
   "outputs": [
    {
     "name": "stdout",
     "output_type": "stream",
     "text": [
      "0.8\n"
     ]
    }
   ],
   "source": [
    "#타이완, 중국, 베트남인 교육 문제 겪는 비율\n",
    "temp = data[data[\"sq1\"].apply(lambda x: True if x in (\"타이완\", \"중국\", \"베트남\") else False)].loc[:,\"q5_2\"]#.value_counts())        \n",
    "print(len(temp[temp.apply(lambda x: True if x > 3 else False)]) / len(temp))"
   ]
  },
  {
   "cell_type": "code",
   "execution_count": 41,
   "metadata": {},
   "outputs": [
    {
     "name": "stdout",
     "output_type": "stream",
     "text": [
      "0.42474916387959866\n"
     ]
    }
   ],
   "source": [
    "#미국, 일본, 캐나다, 조선족 교육 문제 겪는 비율\n",
    "temp = data[data[\"sq1\"].apply(lambda x: True if x in (\"미국\", \"일본\", \"캐나다\", \"조선족\") else False)].loc[:,\"q5_2\"]#.value_counts())        \n",
    "print(len(temp[temp.apply(lambda x: True if x > 3 else False)]) / len(temp))"
   ]
  },
  {
   "cell_type": "code",
   "execution_count": 42,
   "metadata": {},
   "outputs": [
    {
     "name": "stdout",
     "output_type": "stream",
     "text": [
      "0.40555555555555556\n"
     ]
    }
   ],
   "source": [
    "#타이완, 중국, 베트남인 언어 문제 겪는 비율\n",
    "temp = data[data[\"sq1\"].apply(lambda x: True if x in (\"타이완\", \"중국\", \"베트남\") else False)].loc[:,\"q5_1\"]#.value_counts())        \n",
    "print(len(temp[temp.apply(lambda x: True if x > 3 else False)]) / len(temp))"
   ]
  },
  {
   "cell_type": "code",
   "execution_count": 43,
   "metadata": {},
   "outputs": [
    {
     "name": "stdout",
     "output_type": "stream",
     "text": [
      "0.23745819397993312\n"
     ]
    }
   ],
   "source": [
    "#미국, 일본, 캐나다, 조선족 교육 문제 겪는 비율\n",
    "temp = data[data[\"sq1\"].apply(lambda x: True if x in (\"미국\", \"일본\", \"캐나다\", \"조선족\") else False)].loc[:,\"q5_1\"]#.value_counts())        \n",
    "print(len(temp[temp.apply(lambda x: True if x > 3 else False)]) / len(temp))"
   ]
  },
  {
   "cell_type": "code",
   "execution_count": 44,
   "metadata": {},
   "outputs": [
    {
     "name": "stdout",
     "output_type": "stream",
     "text": [
      "0.48333333333333334\n"
     ]
    }
   ],
   "source": [
    "#타이완, 중국, 베트남인 차별 문제 겪는 비율\n",
    "temp = data[data[\"sq1\"].apply(lambda x: True if x in (\"타이완\", \"중국\", \"베트남\") else False)].loc[:,\"q5_5\"]#.value_counts())        \n",
    "print(len(temp[temp.apply(lambda x: True if x > 3 else False)]) / len(temp))"
   ]
  },
  {
   "cell_type": "code",
   "execution_count": 45,
   "metadata": {},
   "outputs": [
    {
     "name": "stdout",
     "output_type": "stream",
     "text": [
      "0.2782608695652174\n"
     ]
    }
   ],
   "source": [
    "#미국, 일본, 캐나다, 조선족 차별 문제 겪는 비율\n",
    "temp = data[data[\"sq1\"].apply(lambda x: True if x in (\"미국\", \"일본\", \"캐나다\", \"조선족\") else False)].loc[:,\"q5_5\"]#.value_counts())        \n",
    "print(len(temp[temp.apply(lambda x: True if x > 3 else False)]) / len(temp))"
   ]
  },
  {
   "cell_type": "code",
   "execution_count": null,
   "metadata": {},
   "outputs": [],
   "source": []
  }
 ],
 "metadata": {
  "kernelspec": {
   "display_name": "Python 3",
   "language": "python",
   "name": "python3"
  },
  "language_info": {
   "codemirror_mode": {
    "name": "ipython",
    "version": 3
   },
   "file_extension": ".py",
   "mimetype": "text/x-python",
   "name": "python",
   "nbconvert_exporter": "python",
   "pygments_lexer": "ipython3",
   "version": "3.7.6"
  }
 },
 "nbformat": 4,
 "nbformat_minor": 4
}
