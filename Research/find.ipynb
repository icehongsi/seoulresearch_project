{
 "cells": [
  {
   "cell_type": "code",
   "execution_count": 12,
   "metadata": {},
   "outputs": [],
   "source": [
    "import pandas as pd\n",
    "data = pd.read_excel(\"C:\\\\Users\\Youngju Hong\\Documents\\projectfile\\gis.xlsx\", sheet_name = \"GIS version\")"
   ]
  },
  {
   "cell_type": "code",
   "execution_count": 14,
   "metadata": {},
   "outputs": [],
   "source": [
    "data[\"ADM_CD\"] = data[\"ADM_CD\"].apply(lambda x: str(x) + \"0\")"
   ]
  },
  {
   "cell_type": "code",
   "execution_count": 18,
   "metadata": {},
   "outputs": [
    {
     "name": "stdout",
     "output_type": "stream",
     "text": [
      "         ymd  tt  h_dng_cd  fornlong_spop       chn      vnm       usa  \\\n",
      "0 2020-01-01   0  11110515       204.3423   81.5946   0.0238   52.6440   \n",
      "1 2020-01-01   0  11110530       996.7482  234.0191  14.8886  183.3293   \n",
      "2 2020-01-01   0  11110540       168.6856   43.7797  13.9304   48.6421   \n",
      "3 2020-01-01   0  11110550       437.9146  245.3211   4.4483   88.1657   \n",
      "4 2020-01-01   0  11110560       380.7847  116.9250   4.4532  120.6092   \n",
      "\n",
      "       jpn      can      twn    etcsum  \n",
      "0   5.9314  15.6232   0.0037   48.5216  \n",
      "1  34.7678  50.3823  12.4711  466.8905  \n",
      "2   6.5842   0.3645  13.3380   42.0469  \n",
      "3   0.0000  29.5340   9.6511   60.7944  \n",
      "4  10.7719  24.8353  26.4001   76.7901  \n"
     ]
    }
   ],
   "source": [
    "foreign_data = pd.read_table(\"C:\\\\Users\\Youngju Hong\\Documents\\projectfile\\SE_SPOP_FORN_LONG_RESD_DONG_2020년1월-5월.txt\", sep = \",\")\n",
    "foreign_data[\"ymd\"] = pd.to_datetime(foreign_data[\"ymd\"], format = \"%Y%m%d\")\n",
    "print(foreign_data.head())\n",
    "\n",
    "district_code = pd.read_csv(\"C:\\\\Users\\Youngju Hong\\Documents\\projectfile\\행정동코드.csv\")\n",
    "district_code.columns = [\"통계청코드\", \"행자부코드\", \"시도명\", \"구\", \"동\"]\n",
    "district_code[\"구코드\"] = district_code[\"행자부코드\"].apply(lambda x: str(x)[:4])\n",
    "district_code.head()\n",
    "district_code_gu = dict(zip(district_code[\"구코드\"], district_code[\"구\"]))\n",
    "district_code_dong = dict(zip(district_code[\"행자부코드\"], district_code[\"동\"]))\n",
    "\n",
    "\n",
    "#foreign_data_grouped[\"gu\"] = foreign_data_grouped[\"gu_code\"].apply(lambda x: district_code_gu[x])\n",
    "#foreign_data_grouped[\"dong\"] = foreign_data_grouped[\"h_dng_cd\"].apply(lambda x: district_code_dong[x])\n",
    "#foreign_data_grouped[\"time\"] = foreign_data_grouped[\"tt\"].apply(lambda x: \"Day\" if (x>=9 and x<=20) else \"Night\")\n",
    "#foreign_data_grouped.head()\n",
    "#foreign_data_grouped.dtypes"
   ]
  }
 ],
 "metadata": {
  "kernelspec": {
   "display_name": "Python 3",
   "language": "python",
   "name": "python3"
  },
  "language_info": {
   "codemirror_mode": {
    "name": "ipython",
    "version": 3
   },
   "file_extension": ".py",
   "mimetype": "text/x-python",
   "name": "python",
   "nbconvert_exporter": "python",
   "pygments_lexer": "ipython3",
   "version": "3.7.6"
  }
 },
 "nbformat": 4,
 "nbformat_minor": 4
}
