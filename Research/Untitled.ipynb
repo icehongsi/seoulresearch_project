{
 "cells": [
  {
   "cell_type": "code",
   "execution_count": 3,
   "metadata": {},
   "outputs": [],
   "source": [
    "import pandas as pd\n",
    "file = pd.read_excel(\"/Users/hong/OneDrive - ./projectfile/외국인학교 위치.xlsx\")"
   ]
  },
  {
   "cell_type": "code",
   "execution_count": 9,
   "metadata": {},
   "outputs": [
    {
     "data": {
      "text/html": [
       "<div>\n",
       "<style scoped>\n",
       "    .dataframe tbody tr th:only-of-type {\n",
       "        vertical-align: middle;\n",
       "    }\n",
       "\n",
       "    .dataframe tbody tr th {\n",
       "        vertical-align: top;\n",
       "    }\n",
       "\n",
       "    .dataframe thead th {\n",
       "        text-align: right;\n",
       "    }\n",
       "</style>\n",
       "<table border=\"1\" class=\"dataframe\">\n",
       "  <thead>\n",
       "    <tr style=\"text-align: right;\">\n",
       "      <th></th>\n",
       "      <th>Unnamed: 0</th>\n",
       "      <th>Unnamed: 1</th>\n",
       "      <th>Unnamed: 2</th>\n",
       "    </tr>\n",
       "  </thead>\n",
       "  <tbody>\n",
       "    <tr>\n",
       "      <th>0</th>\n",
       "      <td>한국외국인학교(서울캠퍼스)</td>\n",
       "      <td>서울특별시 강남구 개포동 155</td>\n",
       "      <td>서울특별시 강남구 개포동 155 한국외국인학교</td>\n",
       "    </tr>\n",
       "    <tr>\n",
       "      <th>1</th>\n",
       "      <td>한국켄트외국인학교</td>\n",
       "      <td>서울특별시 광진구 구의동 619-30</td>\n",
       "      <td>서울특별시 광진구 구의동 619-30</td>\n",
       "    </tr>\n",
       "    <tr>\n",
       "      <th>2</th>\n",
       "      <td>아시아퍼시픽국제외국인학교</td>\n",
       "      <td>서울특별시 노원구 월계동 820</td>\n",
       "      <td>서울특별시 노원구 월계동 820 아시아퍼시픽 국제학교</td>\n",
       "    </tr>\n",
       "    <tr>\n",
       "      <th>3</th>\n",
       "      <td>서울외국인학교</td>\n",
       "      <td>서울특별시 서대문구 연희동 55-1</td>\n",
       "      <td>서울특별시 서대문구 연희동 55-1 서울외국인학교</td>\n",
       "    </tr>\n",
       "    <tr>\n",
       "      <th>4</th>\n",
       "      <td>코리아외국인학교</td>\n",
       "      <td>서울특별시 서초구 양재동 2-32</td>\n",
       "      <td>서울특별시 서초구 양재동 2-32 코리아외국인학교</td>\n",
       "    </tr>\n",
       "  </tbody>\n",
       "</table>\n",
       "</div>"
      ],
      "text/plain": [
       "       Unnamed: 0            Unnamed: 1                     Unnamed: 2\n",
       "0  한국외국인학교(서울캠퍼스)     서울특별시 강남구 개포동 155      서울특별시 강남구 개포동 155 한국외국인학교\n",
       "1       한국켄트외국인학교  서울특별시 광진구 구의동 619-30           서울특별시 광진구 구의동 619-30\n",
       "2   아시아퍼시픽국제외국인학교     서울특별시 노원구 월계동 820  서울특별시 노원구 월계동 820 아시아퍼시픽 국제학교\n",
       "3         서울외국인학교   서울특별시 서대문구 연희동 55-1    서울특별시 서대문구 연희동 55-1 서울외국인학교\n",
       "4        코리아외국인학교    서울특별시 서초구 양재동 2-32    서울특별시 서초구 양재동 2-32 코리아외국인학교"
      ]
     },
     "execution_count": 9,
     "metadata": {},
     "output_type": "execute_result"
    }
   ],
   "source": [
    "import requests\n",
    "file.head()"
   ]
  },
  {
   "cell_type": "code",
   "execution_count": 6,
   "metadata": {},
   "outputs": [],
   "source": [
    "url = \"http://api.vworld.kr/req/search?service=search&request=search&\\\n",
    "                                        &size=5&page=1&query={}&type=place&format=json&errorformat=json&crs=EPSG:5179\\\n",
    "                                                    &key=8FEEBFAF-A069-393A-B997-411AA9884913\""
   ]
  },
  {
   "cell_type": "code",
   "execution_count": 11,
   "metadata": {},
   "outputs": [
    {
     "name": "stdout",
     "output_type": "stream",
     "text": [
      "수도전기공업고등학교 서울특별시 강남구 개포동 155 961426.882019887 1943027.049281597\n",
      "KOREAKENTFOREIGNSCHOOL 서울특별시 광진구 구의동 619-30 963467.154618849 1949842.51718894\n",
      "대의산 서울특별시 노원구 월계동 820 960342.737420621 1959105.634298829\n",
      "서울외국인학교입구 서울특별시 서대문구 연희동 55-1 950175.471425812 1952408.385591641\n",
      "레인보우국제학교입구 서울특별시 서초구 양재동 2-32 959433.053820907 1942927.356481478\n",
      "삼립빌딩입구 서울특별시 용산구 한남동 4-22 956872.934122277 1948714.300187703\n",
      "용산국제학교 서울특별시 용산구 한남동 산10-212 955885.717922786 1949142.927688162\n",
      "서울대교구국제성당 서울특별시 용산구 한남동 707-10 956363.263022525 1948690.493987675\n",
      "MJFS입구 서울특별시 중구 신당동 366-591 956705.900522344 1950482.734389603\n",
      "영등포화교소학교입구 서울특별시 영등포구 문래동1가 29-3 946951.352727355 1946132.504884892\n",
      "한성화교고등학교 서울특별시 서대문구 연희동 89-1 950281.154425725 1952667.279591925\n",
      "서울프랑스학교 서울특별시 서초구 반포동 98-2 955618.248422816 1944185.504182822\n",
      "구기동 서울특별시 종로구 구기동 151 951996.760324863 1956992.455296551\n",
      "서울일본인학교입구 서울특별시 마포구 상암동 1582 945684.944628097 1953956.991293281\n",
      "제이제이케터링(주)서울독일지점 서울특별시 용산구 한남동 4-13 956872.673522267 1948778.769587774\n",
      "광장중학교 서울특별시 광진구 광장동 394-5 964835.179818204 1949848.144488949\n",
      "DULWICHCOLLEGESCHOOL 서울특별시 서초구 반포동 5-1 955381.664322973 1945126.551783842\n",
      "아라코(주)드와이트스쿨구내식당 서울특별시 마포구 상암동 1582-1 945706.746628114 1954043.364093371\n"
     ]
    }
   ],
   "source": [
    "searched_address = pd.DataFrame(columns = [\"검색 키워드\", \"주소\", \"위도\", \"경도\"])\n",
    "count = 0\n",
    "for i in range(len(file)):\n",
    "    \n",
    "    result = requests.get(url.format(file.iloc[i,1])).json()[\"response\"][\"result\"][\"items\"][0]\n",
    "    try:\n",
    "        print(result['title'], result['address']['parcel'], result['point']['x'], result['point']['y'])\n",
    "        searched_address[count] = [result['title'], result['address']['parcel'], result['point']['x'], result['point']['y']]\n",
    "    except:\n",
    "        searched_address[count] = [file.iloc[i,1], None, None, None]\n",
    "        \n",
    "    finally:\n",
    "        count += 1\n"
   ]
  },
  {
   "cell_type": "code",
   "execution_count": 13,
   "metadata": {},
   "outputs": [],
   "source": [
    "searched_address.transpose().to_excel(\"searched_address.xlsx\")"
   ]
  },
  {
   "cell_type": "code",
   "execution_count": null,
   "metadata": {},
   "outputs": [],
   "source": [
    "    \n",
    "    \n",
    "    def addressretrieveinterface(self):\n",
    "        searched_address = pd.DataFrame(columns = [\"검색 키워드\", \"주소\", \"위도\", \"경도\"])\n",
    "        count = 0\n",
    "        while True:\n",
    "            print(\"Input an Address for search: type nothing for quit.\")\n",
    "            temp_address = input()\n",
    "            if temp_address == \"\":\n",
    "                break\n",
    "            result = requests.get(self.url.format(temp_address)).json()[\"response\"]\n",
    "            if result[\"status\"] in (\"NOT_FOUND\", \"ERROR\"):\n",
    "                print(\"Result not found\")\n",
    "            else:\n",
    "                print(\"Results: Choose your option.\")\n",
    "                for i in result[\"result\"][\"items\"]:\n",
    "                    print(f\"검색어: {i['title']}, 주소: {i['address']['parcel']}, 좌표: {i['point']['x'], i['point']['y']}\")\n",
    "                    answer =  input(\"Take or Leave - 1/0\")\n",
    "                    if answer == \"1\":\n",
    "                        searched_address[count] = [i['title'], i['address']['parcel'], i['point']['x'], i['point']['y']]\n",
    "                        count += 1\n",
    "                        break\n",
    "\n",
    "                    print(\"-\" * 50)\n",
    "\n",
    "        searched_address.transpose().to_excel(\"searched_address.xlsx\")"
   ]
  }
 ],
 "metadata": {
  "kernelspec": {
   "display_name": "Python 3",
   "language": "python",
   "name": "python3"
  },
  "language_info": {
   "codemirror_mode": {
    "name": "ipython",
    "version": 3
   },
   "file_extension": ".py",
   "mimetype": "text/x-python",
   "name": "python",
   "nbconvert_exporter": "python",
   "pygments_lexer": "ipython3",
   "version": "3.7.4"
  }
 },
 "nbformat": 4,
 "nbformat_minor": 4
}
