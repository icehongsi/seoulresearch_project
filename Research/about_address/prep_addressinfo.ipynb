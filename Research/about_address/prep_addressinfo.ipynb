{
 "cells": [
  {
   "cell_type": "code",
   "execution_count": 37,
   "metadata": {},
   "outputs": [],
   "source": [
    "import pandas as pd\n",
    "data = pd.read_excel(\"C:\\\\Users\\Youngju Hong\\Downloads\\한국행정구역분류_2020.7.1. 기준.xls\",\\\n",
    "                    sheet_name = 4, header = 1, na_values = \"\")"
   ]
  },
  {
   "cell_type": "code",
   "execution_count": 38,
   "metadata": {},
   "outputs": [],
   "source": [
    "data = data[data[\"시도\"] == \"서울특별시\"]"
   ]
  },
  {
   "cell_type": "code",
   "execution_count": 39,
   "metadata": {},
   "outputs": [],
   "source": [
    "data = data.rename(columns = {\"시도\": \"시\", \"시군구\": \"구\", \"행정동(행정기관명)\": \"행정동\"})\n",
    "del data[\"행정구역명\"], data[\"관할지역\"]"
   ]
  },
  {
   "cell_type": "code",
   "execution_count": 40,
   "metadata": {},
   "outputs": [],
   "source": [
    "data.head()\n",
    "\n",
    "def middledot_to_dot(x):\n",
    "    if \"·\" in x:\n",
    "        x = x.replace(\"·\", \".\")\n",
    "    return x\n",
    "\n",
    "data[\"행정동\"] = data[\"행정동\"].apply(middledot_to_dot)\n"
   ]
  },
  {
   "cell_type": "code",
   "execution_count": 43,
   "metadata": {},
   "outputs": [],
   "source": [
    "data.to_excel(\"C:\\\\Users\\Youngju Hong\\Documents\\GitHub\\seoulresearch_project\\Research\\codebook.xlsx\")"
   ]
  },
  {
   "cell_type": "code",
   "execution_count": null,
   "metadata": {},
   "outputs": [],
   "source": []
  }
 ],
 "metadata": {
  "kernelspec": {
   "display_name": "Python 3",
   "language": "python",
   "name": "python3"
  },
  "language_info": {
   "codemirror_mode": {
    "name": "ipython",
    "version": 3
   },
   "file_extension": ".py",
   "mimetype": "text/x-python",
   "name": "python",
   "nbconvert_exporter": "python",
   "pygments_lexer": "ipython3",
   "version": "3.7.6"
  }
 },
 "nbformat": 4,
 "nbformat_minor": 4
}
