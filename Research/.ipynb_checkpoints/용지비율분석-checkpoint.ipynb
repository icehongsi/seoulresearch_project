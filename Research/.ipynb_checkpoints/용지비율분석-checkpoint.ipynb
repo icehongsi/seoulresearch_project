{
 "cells": [
  {
   "cell_type": "code",
   "execution_count": 95,
   "metadata": {},
   "outputs": [],
   "source": [
    "import pandas as pd"
   ]
  },
  {
   "cell_type": "code",
   "execution_count": 108,
   "metadata": {},
   "outputs": [],
   "source": [
    "gucode = pd.read_excel(\"C:\\\\Users\\Youngju Hong\\Desktop\\서울연구원 논문대회\\구_코드.xls\")"
   ]
  },
  {
   "cell_type": "code",
   "execution_count": 109,
   "metadata": {},
   "outputs": [],
   "source": [
    "dong = dict(zip(gucode[\"ADM_CD\"], gucode[\"ADM_NM\"]))"
   ]
  },
  {
   "cell_type": "code",
   "execution_count": 110,
   "metadata": {},
   "outputs": [],
   "source": [
    "area_info = gucode[[\"ADM_CD\", \"ADM_NM\"]]"
   ]
  },
  {
   "cell_type": "code",
   "execution_count": 111,
   "metadata": {},
   "outputs": [],
   "source": [
    "#1. Area_Green\n",
    "\n",
    "green = pd.read_csv(\"C:/Users/Youngju Hong/Desktop/green.csv\", encoding = \"cp949\")[[\"CatchArea\",\"SHAPE_AREA\", \"ADM_CD\"]]\n",
    "area_info = area_info.merge(green, on = \"ADM_CD\", how = \"left\")\n",
    "area_info = area_info.rename(columns = {\"SHAPE_AREA\": \"GREEN_AREA\"})"
   ]
  },
  {
   "cell_type": "code",
   "execution_count": 112,
   "metadata": {},
   "outputs": [],
   "source": [
    "#2. Area_Commercial\n",
    "\n",
    "commercial = pd.read_csv(\"C:/Users/Youngju Hong/Desktop/commercial.csv\", encoding = \"cp949\")[[\"SHAPE_AREA\", \"ADM_CD\"]]\n",
    "area_info = area_info.merge(commercial, on = \"ADM_CD\", how = \"left\")\n",
    "area_info = area_info.rename(columns = {\"SHAPE_AREA\": \"COMMERCIAL_AREA\"})"
   ]
  },
  {
   "cell_type": "code",
   "execution_count": 113,
   "metadata": {},
   "outputs": [],
   "source": [
    "#3. Area_Living\n",
    "\n",
    "living = pd.read_csv(\"C:/Users/Youngju Hong/Desktop/living.csv\", encoding = \"cp949\")[[\"SHAPE_AREA\", \"ADM_CD\"]]\n",
    "area_info = area_info.merge(living, on = \"ADM_CD\", how = \"left\")\n",
    "area_info = area_info.rename(columns = {\"SHAPE_AREA\": \"LIVING_AREA\"})"
   ]
  },
  {
   "cell_type": "code",
   "execution_count": 114,
   "metadata": {},
   "outputs": [],
   "source": [
    "#4. Area_Industrial\n",
    "\n",
    "industrial = pd.read_csv(\"C:/Users/Youngju Hong/Desktop/industrial.csv\", encoding = \"cp949\")[[\"SHAPE_AREA\", \"ADM_CD\"]]\n",
    "area_info = area_info.merge(industrial, on = \"ADM_CD\", how = \"left\")\n",
    "area_info = area_info.rename(columns = {\"SHAPE_AREA\": \"INDUSTRIAL_AREA\"})"
   ]
  },
  {
   "cell_type": "code",
   "execution_count": 115,
   "metadata": {},
   "outputs": [
    {
     "data": {
      "text/html": [
       "<div>\n",
       "<style scoped>\n",
       "    .dataframe tbody tr th:only-of-type {\n",
       "        vertical-align: middle;\n",
       "    }\n",
       "\n",
       "    .dataframe tbody tr th {\n",
       "        vertical-align: top;\n",
       "    }\n",
       "\n",
       "    .dataframe thead th {\n",
       "        text-align: right;\n",
       "    }\n",
       "</style>\n",
       "<table border=\"1\" class=\"dataframe\">\n",
       "  <thead>\n",
       "    <tr style=\"text-align: right;\">\n",
       "      <th></th>\n",
       "      <th>ADM_CD</th>\n",
       "      <th>ADM_NM</th>\n",
       "      <th>CatchArea</th>\n",
       "      <th>GREEN_AREA</th>\n",
       "      <th>COMMERCIAL_AREA</th>\n",
       "      <th>LIVING_AREA</th>\n",
       "      <th>INDUSTRIAL_AREA</th>\n",
       "    </tr>\n",
       "  </thead>\n",
       "  <tbody>\n",
       "    <tr>\n",
       "      <th>0</th>\n",
       "      <td>1101053</td>\n",
       "      <td>사직동</td>\n",
       "      <td>1159397.0</td>\n",
       "      <td>1.592249e+05</td>\n",
       "      <td>344111.082087</td>\n",
       "      <td>6.601780e+05</td>\n",
       "      <td>0.0</td>\n",
       "    </tr>\n",
       "    <tr>\n",
       "      <th>1</th>\n",
       "      <td>1101054</td>\n",
       "      <td>삼청동</td>\n",
       "      <td>1479247.0</td>\n",
       "      <td>9.601985e+05</td>\n",
       "      <td>8650.461298</td>\n",
       "      <td>5.117264e+05</td>\n",
       "      <td>0.0</td>\n",
       "    </tr>\n",
       "    <tr>\n",
       "      <th>2</th>\n",
       "      <td>1101055</td>\n",
       "      <td>부암동</td>\n",
       "      <td>2274547.0</td>\n",
       "      <td>1.194347e+06</td>\n",
       "      <td>0.000000</td>\n",
       "      <td>1.069213e+06</td>\n",
       "      <td>0.0</td>\n",
       "    </tr>\n",
       "    <tr>\n",
       "      <th>3</th>\n",
       "      <td>1101056</td>\n",
       "      <td>평창동</td>\n",
       "      <td>8947843.0</td>\n",
       "      <td>6.588696e+06</td>\n",
       "      <td>0.000000</td>\n",
       "      <td>2.352885e+06</td>\n",
       "      <td>0.0</td>\n",
       "    </tr>\n",
       "    <tr>\n",
       "      <th>4</th>\n",
       "      <td>1101057</td>\n",
       "      <td>무악동</td>\n",
       "      <td>369518.0</td>\n",
       "      <td>1.207157e+05</td>\n",
       "      <td>0.000000</td>\n",
       "      <td>2.430792e+05</td>\n",
       "      <td>0.0</td>\n",
       "    </tr>\n",
       "    <tr>\n",
       "      <th>...</th>\n",
       "      <td>...</td>\n",
       "      <td>...</td>\n",
       "      <td>...</td>\n",
       "      <td>...</td>\n",
       "      <td>...</td>\n",
       "      <td>...</td>\n",
       "      <td>...</td>\n",
       "    </tr>\n",
       "    <tr>\n",
       "      <th>419</th>\n",
       "      <td>1125070</td>\n",
       "      <td>둔촌1동</td>\n",
       "      <td>912170.0</td>\n",
       "      <td>2.316044e+05</td>\n",
       "      <td>0.000000</td>\n",
       "      <td>6.805405e+05</td>\n",
       "      <td>0.0</td>\n",
       "    </tr>\n",
       "    <tr>\n",
       "      <th>420</th>\n",
       "      <td>1125071</td>\n",
       "      <td>둔촌2동</td>\n",
       "      <td>1550442.0</td>\n",
       "      <td>8.514790e+05</td>\n",
       "      <td>0.000000</td>\n",
       "      <td>6.988435e+05</td>\n",
       "      <td>0.0</td>\n",
       "    </tr>\n",
       "    <tr>\n",
       "      <th>421</th>\n",
       "      <td>1125072</td>\n",
       "      <td>암사1동</td>\n",
       "      <td>0.0</td>\n",
       "      <td>0.000000e+00</td>\n",
       "      <td>0.000000</td>\n",
       "      <td>7.354311e+05</td>\n",
       "      <td>0.0</td>\n",
       "    </tr>\n",
       "    <tr>\n",
       "      <th>422</th>\n",
       "      <td>1125073</td>\n",
       "      <td>천호2동</td>\n",
       "      <td>1850842.0</td>\n",
       "      <td>8.195355e+05</td>\n",
       "      <td>121322.986581</td>\n",
       "      <td>9.109184e+05</td>\n",
       "      <td>0.0</td>\n",
       "    </tr>\n",
       "    <tr>\n",
       "      <th>423</th>\n",
       "      <td>1125074</td>\n",
       "      <td>길동</td>\n",
       "      <td>1631603.0</td>\n",
       "      <td>4.224627e+05</td>\n",
       "      <td>146945.173797</td>\n",
       "      <td>1.062155e+06</td>\n",
       "      <td>0.0</td>\n",
       "    </tr>\n",
       "  </tbody>\n",
       "</table>\n",
       "<p>424 rows × 7 columns</p>\n",
       "</div>"
      ],
      "text/plain": [
       "      ADM_CD ADM_NM  CatchArea    GREEN_AREA  COMMERCIAL_AREA   LIVING_AREA  \\\n",
       "0    1101053    사직동  1159397.0  1.592249e+05    344111.082087  6.601780e+05   \n",
       "1    1101054    삼청동  1479247.0  9.601985e+05      8650.461298  5.117264e+05   \n",
       "2    1101055    부암동  2274547.0  1.194347e+06         0.000000  1.069213e+06   \n",
       "3    1101056    평창동  8947843.0  6.588696e+06         0.000000  2.352885e+06   \n",
       "4    1101057    무악동   369518.0  1.207157e+05         0.000000  2.430792e+05   \n",
       "..       ...    ...        ...           ...              ...           ...   \n",
       "419  1125070   둔촌1동   912170.0  2.316044e+05         0.000000  6.805405e+05   \n",
       "420  1125071   둔촌2동  1550442.0  8.514790e+05         0.000000  6.988435e+05   \n",
       "421  1125072   암사1동        0.0  0.000000e+00         0.000000  7.354311e+05   \n",
       "422  1125073   천호2동  1850842.0  8.195355e+05    121322.986581  9.109184e+05   \n",
       "423  1125074     길동  1631603.0  4.224627e+05    146945.173797  1.062155e+06   \n",
       "\n",
       "     INDUSTRIAL_AREA  \n",
       "0                0.0  \n",
       "1                0.0  \n",
       "2                0.0  \n",
       "3                0.0  \n",
       "4                0.0  \n",
       "..               ...  \n",
       "419              0.0  \n",
       "420              0.0  \n",
       "421              0.0  \n",
       "422              0.0  \n",
       "423              0.0  \n",
       "\n",
       "[424 rows x 7 columns]"
      ]
     },
     "execution_count": 115,
     "metadata": {},
     "output_type": "execute_result"
    }
   ],
   "source": [
    "area_info = area_info.fillna(0)\n",
    "area_info"
   ]
  },
  {
   "cell_type": "code",
   "execution_count": 116,
   "metadata": {},
   "outputs": [],
   "source": [
    "area_info[\"sum\"] = area_info.loc[:, \"GREEN_AREA\" : \"INDUSTRIAL_AREA\"].astype(int).sum(axis = 1)"
   ]
  },
  {
   "cell_type": "code",
   "execution_count": 117,
   "metadata": {},
   "outputs": [],
   "source": [
    "area_info.to_excel(\"area.xlsx\")"
   ]
  },
  {
   "cell_type": "code",
   "execution_count": null,
   "metadata": {},
   "outputs": [],
   "source": []
  }
 ],
 "metadata": {
  "kernelspec": {
   "display_name": "Python 3",
   "language": "python",
   "name": "python3"
  },
  "language_info": {
   "codemirror_mode": {
    "name": "ipython",
    "version": 3
   },
   "file_extension": ".py",
   "mimetype": "text/x-python",
   "name": "python",
   "nbconvert_exporter": "python",
   "pygments_lexer": "ipython3",
   "version": "3.7.6"
  }
 },
 "nbformat": 4,
 "nbformat_minor": 4
}
