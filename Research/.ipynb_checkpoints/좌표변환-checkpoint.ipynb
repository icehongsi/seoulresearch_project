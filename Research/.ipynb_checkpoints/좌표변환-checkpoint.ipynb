{
 "cells": [
  {
   "cell_type": "code",
   "execution_count": 1,
   "metadata": {},
   "outputs": [],
   "source": [
    "#좌표변환\n",
    "from pyproj import Proj, Transformer, CRS\n",
    "from functools import partial\n",
    "import pandas as pd\n",
    "import requests"
   ]
  },
  {
   "cell_type": "markdown",
   "metadata": {},
   "source": [
    "1. transformer = Transformer.from_crs를 활용하여 좌표를 변환해줄 객체 생성\n",
    "2. transformer(y축 좌표, x축 좌표) >> 반환값은 튜플\n",
    "\n",
    "3. transformation 함수: epsg_from, epsg_to, x_coordinate, y_coordinate"
   ]
  },
  {
   "cell_type": "code",
   "execution_count": null,
   "metadata": {},
   "outputs": [],
   "source": [
    "def transformation(x_coordinate, y_coordinate, epsg_from = 4326, epsg_to = 5179):\n",
    "    return Transformer.from_crs(f\"epsg:{epsg_from}\", f\"epsg:{epsg_to}\").transform(y_coordinate, x_coordinate)\n",
    "\n",
    "def transformation_df(x_df, y_df, epsg_from = 4326, epsg_to = 5179):\n",
    "    for i in range(len(x_df)):\n",
    "        x_df[i], y_df[i] = Transformer.from_crs(f\"epsg:{epsg_from}\", f\"epsg:{epsg_to}\").transform(y_df[i], x_df[i])\n",
    "    return pd.DataFram"
   ]
  },
  {
   "cell_type": "code",
   "execution_count": 2,
   "metadata": {},
   "outputs": [],
   "source": [
    "def address_retrival(keyword, size = 1, epsg = 5179):\n",
    "    url = f\"http://api.vworld.kr/req/search?service=search&request=search&\\\n",
    "            &size={size}&page=1&query={keyword}&type=place&format=json&errorformat=json&crs=EPSG:{epsg}\\\n",
    "                &key=8FEEBFAF-A069-393A-B997-411AA9884913\"\n",
    "    result = requests.get(url).json()[\"response\"]\n",
    "    if result[\"status\"] in (\"NOT_FOUND\", \"ERROR\"):\n",
    "        return None\n",
    "    \n",
    "    elif size == 1:\n",
    "        result = result[\"result\"][\"items\"][0]\n",
    "        return {\"검색어\": keyword, \"주소\": result[\"address\"][\"parcel\"], \"X\": result[\"point\"][\"x\"], \"Y\": result[\"point\"][\"y\"]}\n",
    "    \n",
    "    else: # size > 1: 여러개의 검색 결과를 return할 경우\n",
    "        for i in result[\"result\"][\"items\"]:\n",
    "            print(f\"검색어: {i['title']}, 주소: {i['address']['parcel']}, 좌표: {i['point']['x'], i['point']['y']}\")\n",
    "            answer =  input(\"Take or Leave - 1/0\")\n",
    "            if answer == \"1\":\n",
    "                return [i['title'], i['address']['parcel'], i['point']['x'], i['point']['y']]\n"
   ]
  },
  {
   "cell_type": "code",
   "execution_count": 3,
   "metadata": {},
   "outputs": [
    {
     "data": {
      "text/plain": [
       "{'검색어': '경희대학교',\n",
       " '주소': '경기도 용인시 기흥구 서천동 1번지',\n",
       " 'X': '962646.655018903',\n",
       " 'Y': '1916309.115452343'}"
      ]
     },
     "execution_count": 3,
     "metadata": {},
     "output_type": "execute_result"
    }
   ],
   "source": [
    "address_retrival(\"경희대학교\", size = 1)"
   ]
  },
  {
   "cell_type": "code",
   "execution_count": null,
   "metadata": {},
   "outputs": [],
   "source": [
    "def address_retrival_df(size = 5, epsg = 5179): #return by dataframe\n",
    "    searched_address = pd.DataFrame(columns = [\"검색 키워드\", \"주소\", \"위도\", \"경도\"])\n",
    "    count = 0\n",
    "    while True:\n",
    "        print(\"Input a keyword for search: type nothing for quit.\")\n",
    "        keyword = input()\n",
    "        if keyword == \"\":\n",
    "            return searched_address\n",
    "        url = f\"http://api.vworld.kr/req/search?service=search&request=search&\\\n",
    "                &size={size}&page=1&query={keyword}&type=place&format=json&errorformat=json&crs=EPSG:{epsg}\\\n",
    "                    &key=8FEEBFAF-A069-393A-B997-411AA9884913\"\n",
    "        result = requests.get(url).json()[\"response\"]\n",
    "        if result[\"status\"] in (\"NOT_FOUND\", \"ERROR\"):\n",
    "            print(\"Result not found\")\n",
    "        else: # size > 1: 여러개의 검색 결과를 return할 경우\n",
    "            print(\"Results: Choose your option.\")\n",
    "            for i in result[\"result\"][\"items\"]:\n",
    "                print(f\"검색어: {i['title']}, 주소: {i['address']['parcel']}, 좌표: {i['point']['x'], i['point']['y']}\")\n",
    "                answer =  input(\"Input T for take\")\n",
    "                if answer == \"T\":\n",
    "                    searched_address[count] = [i['title'], i['address']['parcel'], i['point']['x'], i['point']['y']]\n",
    "                    count += 1"
   ]
  },
  {
   "cell_type": "code",
   "execution_count": null,
   "metadata": {},
   "outputs": [],
   "source": [
    "address_retrival_df()"
   ]
  },
  {
   "cell_type": "code",
   "execution_count": 29,
   "metadata": {},
   "outputs": [
    {
     "data": {
      "text/plain": [
       "<Geographic 2D CRS: EPSG:4326>\n",
       "Name: WGS 84\n",
       "Axis Info [ellipsoidal]:\n",
       "- Lat[north]: Geodetic latitude (degree)\n",
       "- Lon[east]: Geodetic longitude (degree)\n",
       "Area of Use:\n",
       "- name: World\n",
       "- bounds: (-180.0, -90.0, 180.0, 90.0)\n",
       "Datum: World Geodetic System 1984\n",
       "- Ellipsoid: WGS 84\n",
       "- Prime Meridian: Greenwich"
      ]
     },
     "execution_count": 29,
     "metadata": {},
     "output_type": "execute_result"
    }
   ],
   "source": []
  },
  {
   "cell_type": "code",
   "execution_count": 39,
   "metadata": {},
   "outputs": [
    {
     "data": {
      "text/plain": [
       "<Projected CRS: EPSG:5179>\n",
       "Name: Korea 2000 / Unified CS\n",
       "Axis Info [cartesian]:\n",
       "- X[north]: Northing (metre)\n",
       "- Y[east]: Easting (metre)\n",
       "Area of Use:\n",
       "- name: Korea, Republic of (South Korea)\n",
       "- bounds: (122.71, 28.6, 134.28, 40.27)\n",
       "Coordinate Operation:\n",
       "- name: Korea Unified Belt\n",
       "- method: Transverse Mercator\n",
       "Datum: Geocentric datum of Korea\n",
       "- Ellipsoid: GRS 1980\n",
       "- Prime Meridian: Greenwich"
      ]
     },
     "execution_count": 39,
     "metadata": {},
     "output_type": "execute_result"
    }
   ],
   "source": []
  },
  {
   "cell_type": "code",
   "execution_count": null,
   "metadata": {},
   "outputs": [],
   "source": []
  }
 ],
 "metadata": {
  "kernelspec": {
   "display_name": "Python 3",
   "language": "python",
   "name": "python3"
  },
  "language_info": {
   "codemirror_mode": {
    "name": "ipython",
    "version": 3
   },
   "file_extension": ".py",
   "mimetype": "text/x-python",
   "name": "python",
   "nbconvert_exporter": "python",
   "pygments_lexer": "ipython3",
   "version": "3.7.6"
  }
 },
 "nbformat": 4,
 "nbformat_minor": 4
}
