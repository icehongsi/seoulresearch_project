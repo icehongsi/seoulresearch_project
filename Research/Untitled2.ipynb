{
 "cells": [
  {
   "cell_type": "code",
   "execution_count": 3,
   "metadata": {},
   "outputs": [],
   "source": [
    "import pandas as pd\n",
    "fdata = pd.read_excel(\"uhm_revised.xlsx\")"
   ]
  },
  {
   "cell_type": "code",
   "execution_count": 201,
   "metadata": {},
   "outputs": [
    {
     "name": "stdout",
     "output_type": "stream",
     "text": [
      "        행정동코드        총생활인구수\n",
      "0    11110515  15464.823381\n",
      "1    11110530  26491.581418\n",
      "2    11110540   5926.624077\n",
      "3    11110550  14897.514328\n",
      "4    11110560  17769.774535\n",
      "..        ...           ...\n",
      "419  11740650  26989.032683\n",
      "420  11740660  27121.312091\n",
      "421  11740685  51043.063416\n",
      "422  11740690   7405.932179\n",
      "423  11740700  32039.902573\n",
      "\n",
      "[424 rows x 2 columns]\n",
      "        행정동코드        총생활인구수\n",
      "0    11110515  15557.059783\n",
      "1    11110530  25614.479375\n",
      "2    11110540   5785.818386\n",
      "3    11110550  15220.013375\n",
      "4    11110560  18381.120096\n",
      "..        ...           ...\n",
      "419  11740650  26994.391520\n",
      "420  11740660  28099.835834\n",
      "421  11740685  51814.684958\n",
      "422  11740690   7560.599971\n",
      "423  11740700  32520.969609\n",
      "\n",
      "[424 rows x 2 columns]\n",
      "        행정동코드        총생활인구수\n",
      "0    11110515  15643.687351\n",
      "1    11110530  22427.770681\n",
      "2    11110540   5507.687678\n",
      "3    11110550  15419.195735\n",
      "4    11110560  19232.048204\n",
      "..        ...           ...\n",
      "419  11740650  27304.396475\n",
      "420  11740660  27220.340880\n",
      "421  11740685  50708.874368\n",
      "422  11740690   7442.161566\n",
      "423  11740700  32506.530368\n",
      "\n",
      "[424 rows x 2 columns]\n",
      "        행정동코드        총생활인구수\n",
      "0    11110515  15945.452452\n",
      "1    11110530  23268.646834\n",
      "2    11110540   5678.600937\n",
      "3    11110550  15477.211308\n",
      "4    11110560  19178.771821\n",
      "..        ...           ...\n",
      "419  11740650  26539.897742\n",
      "420  11740660  26723.775318\n",
      "421  11740685  51407.839583\n",
      "422  11740690   7497.077972\n",
      "423  11740700  30322.354839\n",
      "\n",
      "[424 rows x 2 columns]\n",
      "        행정동코드        총생활인구수\n",
      "0    11110515  15773.399087\n",
      "1    11110530  23996.954141\n",
      "2    11110540   5871.890252\n",
      "3    11110550  15387.275072\n",
      "4    11110560  19168.255196\n",
      "..        ...           ...\n",
      "419  11740650  25944.812930\n",
      "420  11740660  27117.901164\n",
      "421  11740685  51730.861781\n",
      "422  11740690   7491.545124\n",
      "423  11740700  28757.417165\n",
      "\n",
      "[424 rows x 2 columns]\n"
     ]
    }
   ],
   "source": [
    "#instate handling\n",
    "\n",
    "population = pd.DataFrame(columns = [\"행정동코드\", \"총생활인구수\"])\n",
    "#\"기준일ID\", \"시간대구분\", \"행정동코드\", \"총생활인구수\"\n",
    "\n",
    "\n",
    "for i in range(1,6):\n",
    "    pop = pd.read_csv(f\"loca/LOCAL_PEOPLE_DONG_20200{str(i)}.csv\")\n",
    "    pop = pop[[\"행정동코드\", \"총생활인구수\"]]\n",
    "    print(pop.groupby(by = \"행정동코드\", as_index = False).mean())\n",
    "    #print(pop)\n",
    "    population = pd.concat([population, pop])\n",
    "    #grouped = pop.groupby(by = [\"행정동코드\"], as_index = False)\n",
    "    #grouped\n",
    "\n",
    "population = population.groupby(by = [\"행정동코드\"], as_index = False).mean()\n",
    "population.columns = [\"h_dng_cd\", \"pop\"]\n",
    "#pd.concat([population, pop])\n",
    "\n",
    "#population\n"
   ]
  },
  {
   "cell_type": "code",
   "execution_count": 271,
   "metadata": {},
   "outputs": [
    {
     "name": "stdout",
     "output_type": "stream",
     "text": [
      "      gu  outstate_total  instate_total\n",
      "0   1111    15862.794754  277148.772255\n",
      "1   1114    20141.702408  256922.500118\n",
      "2   1117    23128.541111  288325.365781\n",
      "3   1120    15760.010758  347596.244542\n",
      "4   1121    22373.861305  372258.067759\n",
      "5   1123    22388.094519  359021.882619\n",
      "6   1126     6342.809305  364389.185871\n",
      "7   1129    14811.839566  432493.994099\n",
      "8   1130     5333.140815  309591.710002\n",
      "9   1132     3022.457018  284695.789057\n",
      "10  1135     5377.033616  534865.188538\n",
      "11  1138     7494.066221  453336.805505\n",
      "12  1141    21256.655319  365458.889131\n",
      "13  1144    21159.385450  460374.420210\n",
      "14  1147     6104.827645  408236.861255\n",
      "15  1150    10396.863908  546335.430397\n",
      "16  1153    29884.698753  393715.185104\n",
      "17  1154    17704.464627  226244.038786\n",
      "18  1156    36543.363245  461196.954270\n",
      "19  1159    16440.141910  405348.824145\n",
      "20  1162    23279.119647  495133.041160\n",
      "21  1165    16545.515108  575991.794786\n",
      "22  1168    20720.306611  816006.707732\n",
      "23  1171    17760.703747  761236.304085\n",
      "24  1174     9688.919626  509112.176013\n"
     ]
    }
   ],
   "source": [
    "\n",
    "\n",
    "fdata = fdata.sort_values([\"h_dng_cd\"])\n",
    "fdata[\"gu\"] = (fdata[\"h_dng_cd\"] // 10000)\n",
    "population[\"gu\"] = population[\"h_dng_cd\"] // 10000\n",
    "\n",
    "temp_outstate = fdata.groupby(by = [\"gu\"]).sum().reset_index()\n",
    "\n",
    "temp_instate = population.groupby(by = [\"gu\"]).sum().reset_index()\n",
    "result = pd.merge(temp_outstate, temp_instate, on = \"gu\")[[\"gu\", \"fornlong_spop\", \"pop\"]]\n",
    "result.columns = [\"gu\", \"outstate_total\", \"instate_total\"]\n",
    "print(result)\n",
    "\n",
    "result.to_excel(\"구별생활인구.xlsx\")"
   ]
  },
  {
   "cell_type": "code",
   "execution_count": 266,
   "metadata": {},
   "outputs": [
    {
     "name": "stdout",
     "output_type": "stream",
     "text": [
      "     index  h_dng_cd  fornlong_spop    gu           pop\n",
      "0        0  11110515     261.961488  1111  15676.694156\n",
      "1        1  11110530    1276.160389  1111  24350.557897\n",
      "2        2  11110540     176.497064  1111   5754.204102\n",
      "3        3  11110550     514.357301  1111  15279.738594\n",
      "4        4  11110560     445.660312  1111  18747.947720\n",
      "..     ...       ...            ...   ...           ...\n",
      "419    419  11740650    1340.035420  1174  26752.761783\n",
      "420    420  11740660     475.452281  1174  27249.043927\n",
      "421    421  11740685     726.042915  1174  51334.393669\n",
      "422    422  11740690     103.799581  1174   7478.279890\n",
      "423    423  11740700     470.476820  1174  31218.408665\n",
      "\n",
      "[424 rows x 5 columns]\n"
     ]
    }
   ],
   "source": [
    "fdata = fdata.groupby(\"h_dng_cd\").mean().reset_index()\n",
    "populationByNation = pd.merge(fdata, population, on = [\"h_dng_cd\", \"gu\"]).reset_index()\n",
    "print(populationByNation)"
   ]
  },
  {
   "cell_type": "code",
   "execution_count": 267,
   "metadata": {},
   "outputs": [
    {
     "name": "stdout",
     "output_type": "stream",
     "text": [
      "     index  h_dng_cd  fornlong_spop    gu           pop  outstate_total  \\\n",
      "0        0  11110515     261.961488  1111  15676.694156    15862.794754   \n",
      "1        1  11110530    1276.160389  1111  24350.557897    15862.794754   \n",
      "2        2  11110540     176.497064  1111   5754.204102    15862.794754   \n",
      "3        3  11110550     514.357301  1111  15279.738594    15862.794754   \n",
      "4        4  11110560     445.660312  1111  18747.947720    15862.794754   \n",
      "..     ...       ...            ...   ...           ...             ...   \n",
      "419    419  11740650    1340.035420  1174  26752.761783     9688.919626   \n",
      "420    420  11740660     475.452281  1174  27249.043927     9688.919626   \n",
      "421    421  11740685     726.042915  1174  51334.393669     9688.919626   \n",
      "422    422  11740690     103.799581  1174   7478.279890     9688.919626   \n",
      "423    423  11740700     470.476820  1174  31218.408665     9688.919626   \n",
      "\n",
      "     instate_total  \n",
      "0    277148.772255  \n",
      "1    277148.772255  \n",
      "2    277148.772255  \n",
      "3    277148.772255  \n",
      "4    277148.772255  \n",
      "..             ...  \n",
      "419  509112.176013  \n",
      "420  509112.176013  \n",
      "421  509112.176013  \n",
      "422  509112.176013  \n",
      "423  509112.176013  \n",
      "\n",
      "[424 rows x 7 columns]\n"
     ]
    }
   ],
   "source": [
    "populationByNation = pd.merge(populationByNation, result, on = [\"gu\"], how = \"inner\")\n",
    "print(populationByNation)\n",
    "\n"
   ]
  },
  {
   "cell_type": "code",
   "execution_count": 268,
   "metadata": {},
   "outputs": [],
   "source": [
    "populationByNation[\"foreigner_ratio\"] = populationByNation[\"fornlong_spop\"] / populationByNation[\"outstate_total\"]\n",
    "populationByNation[\"local_ratio\"] = populationByNation[\"pop\"] / populationByNation[\"instate_total\"]\n"
   ]
  },
  {
   "cell_type": "code",
   "execution_count": 270,
   "metadata": {},
   "outputs": [],
   "source": [
    "populationByNation.to_excel(\"인구비.xlsx\")"
   ]
  },
  {
   "cell_type": "code",
   "execution_count": 282,
   "metadata": {},
   "outputs": [],
   "source": [
    "fdata = pd.read_excel(\"uhm_revised.xlsx\")"
   ]
  },
  {
   "cell_type": "code",
   "execution_count": 280,
   "metadata": {},
   "outputs": [],
   "source": [
    "fdata.loc[:, \"ymd\":\"forsum\"]"
   ]
  },
  {
   "cell_type": "code",
   "execution_count": 284,
   "metadata": {},
   "outputs": [
    {
     "data": {
      "text/html": [
       "<div>\n",
       "<style scoped>\n",
       "    .dataframe tbody tr th:only-of-type {\n",
       "        vertical-align: middle;\n",
       "    }\n",
       "\n",
       "    .dataframe tbody tr th {\n",
       "        vertical-align: top;\n",
       "    }\n",
       "\n",
       "    .dataframe thead th {\n",
       "        text-align: right;\n",
       "    }\n",
       "</style>\n",
       "<table border=\"1\" class=\"dataframe\">\n",
       "  <thead>\n",
       "    <tr style=\"text-align: right;\">\n",
       "      <th></th>\n",
       "      <th>tt</th>\n",
       "      <th>h_gu_cd</th>\n",
       "    </tr>\n",
       "  </thead>\n",
       "  <tbody>\n",
       "    <tr>\n",
       "      <th>0</th>\n",
       "      <td>0</td>\n",
       "      <td>1111</td>\n",
       "    </tr>\n",
       "    <tr>\n",
       "      <th>1</th>\n",
       "      <td>0</td>\n",
       "      <td>1114</td>\n",
       "    </tr>\n",
       "    <tr>\n",
       "      <th>2</th>\n",
       "      <td>0</td>\n",
       "      <td>1117</td>\n",
       "    </tr>\n",
       "    <tr>\n",
       "      <th>3</th>\n",
       "      <td>0</td>\n",
       "      <td>1120</td>\n",
       "    </tr>\n",
       "    <tr>\n",
       "      <th>4</th>\n",
       "      <td>0</td>\n",
       "      <td>1122</td>\n",
       "    </tr>\n",
       "    <tr>\n",
       "      <th>...</th>\n",
       "      <td>...</td>\n",
       "      <td>...</td>\n",
       "    </tr>\n",
       "    <tr>\n",
       "      <th>91195</th>\n",
       "      <td>23</td>\n",
       "      <td>1162</td>\n",
       "    </tr>\n",
       "    <tr>\n",
       "      <th>91196</th>\n",
       "      <td>23</td>\n",
       "      <td>1165</td>\n",
       "    </tr>\n",
       "    <tr>\n",
       "      <th>91197</th>\n",
       "      <td>23</td>\n",
       "      <td>1168</td>\n",
       "    </tr>\n",
       "    <tr>\n",
       "      <th>91198</th>\n",
       "      <td>23</td>\n",
       "      <td>1171</td>\n",
       "    </tr>\n",
       "    <tr>\n",
       "      <th>91199</th>\n",
       "      <td>23</td>\n",
       "      <td>1174</td>\n",
       "    </tr>\n",
       "  </tbody>\n",
       "</table>\n",
       "<p>91200 rows × 2 columns</p>\n",
       "</div>"
      ],
      "text/plain": [
       "       tt  h_gu_cd\n",
       "0       0     1111\n",
       "1       0     1114\n",
       "2       0     1117\n",
       "3       0     1120\n",
       "4       0     1122\n",
       "...    ..      ...\n",
       "91195  23     1162\n",
       "91196  23     1165\n",
       "91197  23     1168\n",
       "91198  23     1171\n",
       "91199  23     1174\n",
       "\n",
       "[91200 rows x 2 columns]"
      ]
     },
     "execution_count": 284,
     "metadata": {},
     "output_type": "execute_result"
    }
   ],
   "source": [
    "fdata.iloc[:, 2:4]"
   ]
  },
  {
   "cell_type": "code",
   "execution_count": null,
   "metadata": {},
   "outputs": [],
   "source": []
  }
 ],
 "metadata": {
  "kernelspec": {
   "display_name": "Python 3",
   "language": "python",
   "name": "python3"
  },
  "language_info": {
   "codemirror_mode": {
    "name": "ipython",
    "version": 3
   },
   "file_extension": ".py",
   "mimetype": "text/x-python",
   "name": "python",
   "nbconvert_exporter": "python",
   "pygments_lexer": "ipython3",
   "version": "3.7.6"
  }
 },
 "nbformat": 4,
 "nbformat_minor": 4
}
