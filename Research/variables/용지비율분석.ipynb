{
 "cells": [
  {
   "cell_type": "code",
   "execution_count": 1,
   "metadata": {},
   "outputs": [],
   "source": [
    "import pandas as pd"
   ]
  },
  {
   "cell_type": "code",
   "execution_count": 30,
   "metadata": {},
   "outputs": [],
   "source": [
    "gucode = pd.read_excel(\"C:\\\\Users\\Youngju Hong\\Desktop\\서울연구원 논문대회\\구_코드.xls\")"
   ]
  },
  {
   "cell_type": "code",
   "execution_count": 31,
   "metadata": {},
   "outputs": [],
   "source": [
    "dong = dict(zip(gucode[\"ADM_CD\"], gucode[\"ADM_NM\"]))"
   ]
  },
  {
   "cell_type": "code",
   "execution_count": 32,
   "metadata": {},
   "outputs": [],
   "source": [
    "area_info = gucode[[\"ADM_CD\", \"ADM_NM\"]]"
   ]
  },
  {
   "cell_type": "code",
   "execution_count": 33,
   "metadata": {},
   "outputs": [],
   "source": [
    "#1. Area_Green\n",
    "\n",
    "green = pd.read_csv(\"C:/Users/Youngju Hong/Desktop/green.csv\", encoding = \"cp949\")[[\"CatchArea\",\"SHAPE_AREA\", \"ADM_CD\"]]\n",
    "area_info = area_info.merge(green, on = \"ADM_CD\", how = \"left\")\n",
    "area_info = area_info.rename(columns = {\"SHAPE_AREA\": \"GREEN_AREA\"})"
   ]
  },
  {
   "cell_type": "code",
   "execution_count": 34,
   "metadata": {},
   "outputs": [],
   "source": [
    "#2. Area_Commercial\n",
    "\n",
    "commercial = pd.read_csv(\"C:/Users/Youngju Hong/Desktop/commercial.csv\", encoding = \"cp949\")[[\"SHAPE_AREA\", \"ADM_CD\"]]\n",
    "area_info = area_info.merge(commercial, on = \"ADM_CD\", how = \"left\")\n",
    "area_info = area_info.rename(columns = {\"SHAPE_AREA\": \"COMMERCIAL_AREA\"})"
   ]
  },
  {
   "cell_type": "code",
   "execution_count": 35,
   "metadata": {},
   "outputs": [],
   "source": [
    "#3. Area_Living\n",
    "\n",
    "living = pd.read_csv(\"C:/Users/Youngju Hong/Desktop/living.csv\", encoding = \"cp949\")[[\"SHAPE_AREA\", \"ADM_CD\"]]\n",
    "area_info = area_info.merge(living, on = \"ADM_CD\", how = \"left\")\n",
    "area_info = area_info.rename(columns = {\"SHAPE_AREA\": \"LIVING_AREA\"})"
   ]
  },
  {
   "cell_type": "code",
   "execution_count": 36,
   "metadata": {},
   "outputs": [],
   "source": [
    "#4. Area_Industrial\n",
    "\n",
    "industrial = pd.read_csv(\"C:/Users/Youngju Hong/Desktop/industrial.csv\", encoding = \"cp949\")[[\"SHAPE_AREA\", \"ADM_CD\"]]\n",
    "area_info = area_info.merge(industrial, on = \"ADM_CD\", how = \"left\")\n",
    "area_info = area_info.rename(columns = {\"SHAPE_AREA\": \"INDUSTRIAL_AREA\"})"
   ]
  },
  {
   "cell_type": "code",
   "execution_count": 37,
   "metadata": {},
   "outputs": [],
   "source": [
    "#4.2. Hangang\n",
    "\n",
    "hangang = pd.read_csv(\"C:/Users/Youngju Hong/Desktop/hangang.csv\", encoding = \"cp949\")[[\"SHAPE_AREA\", \"ADM_CD\"]]\n",
    "area_info = area_info.merge(hangang, on = \"ADM_CD\", how = \"left\")\n",
    "area_info = area_info.rename(columns = {\"SHAPE_AREA\": \"HANGANG\"})"
   ]
  },
  {
   "cell_type": "code",
   "execution_count": 38,
   "metadata": {},
   "outputs": [],
   "source": [
    "area_info = area_info.fillna(0)\n",
    "area_info[\"GREEN_AREA\"] = area_info[\"GREEN_AREA\"] - area_info[\"HANGANG\"]"
   ]
  },
  {
   "cell_type": "code",
   "execution_count": 39,
   "metadata": {},
   "outputs": [
    {
     "data": {
      "text/html": [
       "<div>\n",
       "<style scoped>\n",
       "    .dataframe tbody tr th:only-of-type {\n",
       "        vertical-align: middle;\n",
       "    }\n",
       "\n",
       "    .dataframe tbody tr th {\n",
       "        vertical-align: top;\n",
       "    }\n",
       "\n",
       "    .dataframe thead th {\n",
       "        text-align: right;\n",
       "    }\n",
       "</style>\n",
       "<table border=\"1\" class=\"dataframe\">\n",
       "  <thead>\n",
       "    <tr style=\"text-align: right;\">\n",
       "      <th></th>\n",
       "      <th>ADM_CD</th>\n",
       "      <th>ADM_NM</th>\n",
       "      <th>CatchArea</th>\n",
       "      <th>GREEN_AREA</th>\n",
       "      <th>COMMERCIAL_AREA</th>\n",
       "      <th>LIVING_AREA</th>\n",
       "      <th>INDUSTRIAL_AREA</th>\n",
       "      <th>HANGANG</th>\n",
       "    </tr>\n",
       "  </thead>\n",
       "  <tbody>\n",
       "    <tr>\n",
       "      <th>47</th>\n",
       "      <td>1103074</td>\n",
       "      <td>한남동</td>\n",
       "      <td>3031889.0</td>\n",
       "      <td>-0.00169</td>\n",
       "      <td>46591.474558</td>\n",
       "      <td>2.589017e+06</td>\n",
       "      <td>0.0</td>\n",
       "      <td>386501.785682</td>\n",
       "    </tr>\n",
       "  </tbody>\n",
       "</table>\n",
       "</div>"
      ],
      "text/plain": [
       "     ADM_CD ADM_NM  CatchArea  GREEN_AREA  COMMERCIAL_AREA   LIVING_AREA  \\\n",
       "47  1103074    한남동  3031889.0    -0.00169     46591.474558  2.589017e+06   \n",
       "\n",
       "    INDUSTRIAL_AREA        HANGANG  \n",
       "47              0.0  386501.785682  "
      ]
     },
     "execution_count": 39,
     "metadata": {},
     "output_type": "execute_result"
    }
   ],
   "source": [
    "area_info[area_info[\"GREEN_AREA\"] <0]"
   ]
  },
  {
   "cell_type": "code",
   "execution_count": 40,
   "metadata": {},
   "outputs": [],
   "source": [
    "area_info[\"sum\"] = area_info.loc[:, \"GREEN_AREA\" : \"INDUSTRIAL_AREA\"].astype(int).sum(axis = 1)"
   ]
  },
  {
   "cell_type": "code",
   "execution_count": 41,
   "metadata": {},
   "outputs": [],
   "source": [
    "area_info.to_excel(\"area.xlsx\")"
   ]
  },
  {
   "cell_type": "code",
   "execution_count": null,
   "metadata": {},
   "outputs": [],
   "source": []
  }
 ],
 "metadata": {
  "kernelspec": {
   "display_name": "Python 3",
   "language": "python",
   "name": "python3"
  },
  "language_info": {
   "codemirror_mode": {
    "name": "ipython",
    "version": 3
   },
   "file_extension": ".py",
   "mimetype": "text/x-python",
   "name": "python",
   "nbconvert_exporter": "python",
   "pygments_lexer": "ipython3",
   "version": "3.7.6"
  }
 },
 "nbformat": 4,
 "nbformat_minor": 4
}
